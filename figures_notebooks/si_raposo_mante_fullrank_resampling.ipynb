{
 "cells": [
  {
   "cell_type": "code",
   "execution_count": 1,
   "metadata": {},
   "outputs": [],
   "source": [
    "import sys\n",
    "sys.path.append('../')\n",
    "import numpy as np\n",
    "from low_rank_rnns.modules import *\n",
    "from low_rank_rnns import raposo, mante, clustering"
   ]
  },
  {
   "cell_type": "code",
   "execution_count": 2,
   "metadata": {},
   "outputs": [],
   "source": [
    "size = 512\n",
    "alpha = 0.2\n",
    "noise_std = 5e-2"
   ]
  },
  {
   "cell_type": "markdown",
   "metadata": {},
   "source": [
    "# Raposo task"
   ]
  },
  {
   "cell_type": "code",
   "execution_count": 3,
   "metadata": {},
   "outputs": [],
   "source": [
    "x_train, y_train, mask_train, x_val, y_val, mask_val = raposo.generate_data(1000)"
   ]
  },
  {
   "cell_type": "code",
   "execution_count": 5,
   "metadata": {},
   "outputs": [
    {
     "name": "stdout",
     "output_type": "stream",
     "text": [
      "Training...\n",
      "initial loss: 0.972\n",
      "epoch 0:  loss=0.483  (took 0.70 s)\n",
      "epoch 1:  loss=0.076  (took 0.71 s)\n",
      "epoch 2:  loss=0.049  (took 0.69 s)\n",
      "epoch 3:  loss=0.039  (took 0.69 s)\n",
      "epoch 4:  loss=0.030  (took 0.68 s)\n",
      "epoch 5:  loss=0.023  (took 0.69 s)\n",
      "epoch 6:  loss=0.017  (took 0.70 s)\n",
      "epoch 7:  loss=0.013  (took 0.69 s)\n",
      "epoch 8:  loss=0.010  (took 0.69 s)\n",
      "epoch 9:  loss=0.007  (took 0.69 s)\n",
      "epoch 10:  loss=0.006  (took 0.70 s)\n",
      "epoch 11:  loss=0.004  (took 0.71 s)\n",
      "epoch 12:  loss=0.003  (took 0.71 s)\n",
      "epoch 13:  loss=0.002  (took 0.71 s)\n",
      "epoch 14:  loss=0.002  (took 0.71 s)\n",
      "epoch 15:  loss=0.001  (took 0.70 s)\n",
      "epoch 16:  loss=0.001  (took 0.74 s)\n",
      "epoch 17:  loss=0.001  (took 0.77 s)\n",
      "epoch 18:  loss=0.000  (took 0.79 s)\n",
      "epoch 19:  loss=0.000  (took 0.83 s)\n",
      "Training...\n",
      "initial loss: 1.014\n",
      "epoch 0:  loss=0.504  (took 0.71 s)\n",
      "epoch 1:  loss=0.057  (took 0.73 s)\n",
      "epoch 2:  loss=0.028  (took 0.75 s)\n",
      "epoch 3:  loss=0.015  (took 0.78 s)\n",
      "epoch 4:  loss=0.010  (took 0.76 s)\n",
      "epoch 5:  loss=0.006  (took 0.77 s)\n",
      "epoch 6:  loss=0.004  (took 0.75 s)\n",
      "epoch 7:  loss=0.003  (took 0.79 s)\n",
      "epoch 8:  loss=0.003  (took 0.75 s)\n",
      "epoch 9:  loss=0.001  (took 0.75 s)\n",
      "epoch 10:  loss=0.001  (took 0.77 s)\n",
      "epoch 11:  loss=0.000  (took 0.77 s)\n",
      "epoch 12:  loss=0.000  (took 0.77 s)\n",
      "epoch 13:  loss=0.000  (took 0.82 s)\n",
      "epoch 14:  loss=0.000  (took 0.78 s)\n",
      "epoch 15:  loss=0.000  (took 0.77 s)\n",
      "epoch 16:  loss=0.000  (took 0.75 s)\n",
      "epoch 17:  loss=0.000  (took 0.74 s)\n",
      "epoch 18:  loss=0.000  (took 0.76 s)\n",
      "epoch 19:  loss=0.000  (took 0.74 s)\n",
      "Training...\n",
      "initial loss: 1.014\n",
      "epoch 0:  loss=0.526  (took 0.74 s)\n",
      "epoch 1:  loss=0.108  (took 0.73 s)\n",
      "epoch 2:  loss=0.088  (took 0.77 s)\n",
      "epoch 3:  loss=0.054  (took 0.78 s)\n",
      "epoch 4:  loss=0.033  (took 0.78 s)\n",
      "epoch 5:  loss=0.024  (took 0.76 s)\n",
      "epoch 6:  loss=0.017  (took 0.75 s)\n",
      "epoch 7:  loss=0.012  (took 0.73 s)\n",
      "epoch 8:  loss=0.009  (took 0.75 s)\n",
      "epoch 9:  loss=0.006  (took 0.77 s)\n",
      "epoch 10:  loss=0.004  (took 0.78 s)\n",
      "epoch 11:  loss=0.003  (took 0.78 s)\n",
      "epoch 12:  loss=0.002  (took 0.77 s)\n",
      "epoch 13:  loss=0.002  (took 0.76 s)\n",
      "epoch 14:  loss=0.001  (took 0.76 s)\n",
      "epoch 15:  loss=0.001  (took 0.75 s)\n",
      "epoch 16:  loss=0.004  (took 0.76 s)\n",
      "epoch 17:  loss=0.001  (took 0.75 s)\n",
      "epoch 18:  loss=0.000  (took 0.75 s)\n",
      "epoch 19:  loss=0.000  (took 0.77 s)\n",
      "Training...\n",
      "initial loss: 1.012\n",
      "epoch 0:  loss=0.534  (took 0.76 s)\n",
      "epoch 1:  loss=0.123  (took 0.76 s)\n",
      "epoch 2:  loss=0.112  (took 0.76 s)\n",
      "epoch 3:  loss=0.068  (took 0.76 s)\n",
      "epoch 4:  loss=0.041  (took 0.76 s)\n",
      "epoch 5:  loss=0.031  (took 0.77 s)\n",
      "epoch 6:  loss=0.024  (took 0.78 s)\n",
      "epoch 7:  loss=0.021  (took 0.77 s)\n",
      "epoch 8:  loss=0.016  (took 0.80 s)\n",
      "epoch 9:  loss=0.012  (took 0.79 s)\n",
      "epoch 10:  loss=0.019  (took 0.80 s)\n",
      "epoch 11:  loss=0.009  (took 0.79 s)\n",
      "epoch 12:  loss=0.008  (took 0.77 s)\n",
      "epoch 13:  loss=0.039  (took 0.76 s)\n",
      "epoch 14:  loss=0.005  (took 0.75 s)\n",
      "epoch 15:  loss=0.003  (took 0.76 s)\n",
      "epoch 16:  loss=0.003  (took 0.79 s)\n",
      "epoch 17:  loss=0.002  (took 0.81 s)\n",
      "epoch 18:  loss=0.001  (took 0.82 s)\n",
      "epoch 19:  loss=0.001  (took 0.85 s)\n",
      "Training...\n",
      "initial loss: 1.011\n",
      "epoch 0:  loss=0.520  (took 0.77 s)\n",
      "epoch 1:  loss=0.078  (took 0.81 s)\n",
      "epoch 2:  loss=0.064  (took 0.79 s)\n",
      "epoch 3:  loss=0.038  (took 0.81 s)\n",
      "epoch 4:  loss=0.029  (took 0.84 s)\n",
      "epoch 5:  loss=0.022  (took 0.81 s)\n",
      "epoch 6:  loss=0.017  (took 0.82 s)\n",
      "epoch 7:  loss=0.013  (took 0.81 s)\n",
      "epoch 8:  loss=0.010  (took 0.79 s)\n",
      "epoch 9:  loss=0.007  (took 0.78 s)\n",
      "epoch 10:  loss=0.005  (took 0.78 s)\n",
      "epoch 11:  loss=0.004  (took 0.78 s)\n",
      "epoch 12:  loss=0.003  (took 0.78 s)\n",
      "epoch 13:  loss=0.002  (took 0.77 s)\n",
      "epoch 14:  loss=0.002  (took 0.78 s)\n",
      "epoch 15:  loss=0.001  (took 0.79 s)\n",
      "epoch 16:  loss=0.001  (took 0.78 s)\n",
      "epoch 17:  loss=0.001  (took 0.80 s)\n",
      "epoch 18:  loss=0.001  (took 0.83 s)\n",
      "epoch 19:  loss=0.000  (took 0.81 s)\n",
      "Training...\n",
      "initial loss: 0.958\n",
      "epoch 0:  loss=0.439  (took 0.77 s)\n",
      "epoch 1:  loss=0.058  (took 0.77 s)\n",
      "epoch 2:  loss=0.029  (took 0.75 s)\n",
      "epoch 3:  loss=0.014  (took 0.75 s)\n",
      "epoch 4:  loss=0.009  (took 0.77 s)\n",
      "epoch 5:  loss=0.005  (took 0.79 s)\n",
      "epoch 6:  loss=0.003  (took 0.80 s)\n",
      "epoch 7:  loss=0.002  (took 0.80 s)\n",
      "epoch 8:  loss=0.001  (took 0.79 s)\n",
      "epoch 9:  loss=0.001  (took 0.82 s)\n",
      "epoch 10:  loss=0.001  (took 0.78 s)\n",
      "epoch 11:  loss=0.000  (took 0.77 s)\n",
      "epoch 12:  loss=0.000  (took 0.78 s)\n",
      "epoch 13:  loss=0.000  (took 0.81 s)\n",
      "epoch 14:  loss=0.000  (took 0.82 s)\n",
      "epoch 15:  loss=0.000  (took 0.81 s)\n",
      "epoch 16:  loss=0.000  (took 0.81 s)\n",
      "epoch 17:  loss=0.001  (took 0.83 s)\n",
      "epoch 18:  loss=0.021  (took 0.85 s)\n",
      "epoch 19:  loss=0.011  (took 0.81 s)\n",
      "Training...\n",
      "initial loss: 1.046\n",
      "epoch 0:  loss=0.581  (took 0.87 s)\n",
      "epoch 1:  loss=0.110  (took 0.91 s)\n",
      "epoch 2:  loss=0.076  (took 1.08 s)\n",
      "epoch 3:  loss=0.062  (took 1.37 s)\n",
      "epoch 4:  loss=0.049  (took 0.88 s)\n",
      "epoch 5:  loss=0.039  (took 0.79 s)\n",
      "epoch 6:  loss=0.030  (took 0.78 s)\n",
      "epoch 7:  loss=0.024  (took 0.79 s)\n",
      "epoch 8:  loss=0.018  (took 0.76 s)\n",
      "epoch 9:  loss=0.013  (took 0.79 s)\n",
      "epoch 10:  loss=0.010  (took 0.79 s)\n",
      "epoch 11:  loss=0.008  (took 0.89 s)\n",
      "epoch 12:  loss=0.006  (took 0.81 s)\n",
      "epoch 13:  loss=0.004  (took 0.81 s)\n",
      "epoch 14:  loss=0.003  (took 0.81 s)\n",
      "epoch 15:  loss=0.002  (took 0.78 s)\n",
      "epoch 16:  loss=0.002  (took 0.79 s)\n",
      "epoch 17:  loss=0.001  (took 0.76 s)\n",
      "epoch 18:  loss=0.001  (took 0.81 s)\n",
      "epoch 19:  loss=0.001  (took 0.81 s)\n",
      "Training...\n",
      "initial loss: 0.981\n",
      "epoch 0:  loss=0.517  (took 0.79 s)\n",
      "epoch 1:  loss=0.132  (took 0.78 s)\n",
      "epoch 2:  loss=0.094  (took 0.76 s)\n",
      "epoch 3:  loss=0.075  (took 0.79 s)\n",
      "epoch 4:  loss=0.060  (took 0.79 s)\n",
      "epoch 5:  loss=0.050  (took 0.79 s)\n",
      "epoch 6:  loss=0.042  (took 0.79 s)\n",
      "epoch 7:  loss=0.035  (took 0.78 s)\n",
      "epoch 8:  loss=0.029  (took 0.80 s)\n",
      "epoch 9:  loss=0.024  (took 0.78 s)\n",
      "epoch 10:  loss=0.020  (took 0.77 s)\n",
      "epoch 11:  loss=0.017  (took 0.76 s)\n",
      "epoch 12:  loss=0.014  (took 0.76 s)\n",
      "epoch 13:  loss=0.012  (took 0.76 s)\n",
      "epoch 14:  loss=0.013  (took 0.77 s)\n",
      "epoch 15:  loss=0.008  (took 0.79 s)\n",
      "epoch 16:  loss=0.006  (took 0.78 s)\n",
      "epoch 17:  loss=0.010  (took 0.78 s)\n",
      "epoch 18:  loss=0.005  (took 0.79 s)\n",
      "epoch 19:  loss=0.004  (took 0.80 s)\n",
      "Training...\n",
      "initial loss: 0.969\n",
      "epoch 0:  loss=0.460  (took 0.76 s)\n",
      "epoch 1:  loss=0.045  (took 0.79 s)\n",
      "epoch 2:  loss=0.032  (took 0.78 s)\n",
      "epoch 3:  loss=0.012  (took 0.81 s)\n",
      "epoch 4:  loss=0.007  (took 0.78 s)\n",
      "epoch 5:  loss=0.005  (took 0.77 s)\n",
      "epoch 6:  loss=0.003  (took 0.78 s)\n",
      "epoch 7:  loss=0.002  (took 0.81 s)\n",
      "epoch 8:  loss=0.002  (took 0.78 s)\n",
      "epoch 9:  loss=0.001  (took 0.76 s)\n",
      "epoch 10:  loss=0.001  (took 0.81 s)\n",
      "epoch 11:  loss=0.000  (took 0.79 s)\n",
      "epoch 12:  loss=0.000  (took 0.78 s)\n",
      "epoch 13:  loss=0.000  (took 0.77 s)\n",
      "epoch 14:  loss=0.000  (took 0.79 s)\n",
      "epoch 15:  loss=0.000  (took 0.81 s)\n",
      "epoch 16:  loss=0.000  (took 0.80 s)\n",
      "epoch 17:  loss=0.000  (took 0.78 s)\n",
      "epoch 18:  loss=0.000  (took 0.79 s)\n",
      "epoch 19:  loss=0.000  (took 0.78 s)\n",
      "Training...\n",
      "initial loss: 0.999\n",
      "epoch 0:  loss=0.509  (took 0.76 s)\n",
      "epoch 1:  loss=0.108  (took 0.76 s)\n",
      "epoch 2:  loss=0.090  (took 0.78 s)\n",
      "epoch 3:  loss=0.048  (took 0.81 s)\n",
      "epoch 4:  loss=0.036  (took 0.79 s)\n",
      "epoch 5:  loss=0.032  (took 0.77 s)\n",
      "epoch 6:  loss=0.022  (took 0.78 s)\n",
      "epoch 7:  loss=0.017  (took 0.76 s)\n",
      "epoch 8:  loss=0.013  (took 0.76 s)\n",
      "epoch 9:  loss=0.010  (took 0.78 s)\n",
      "epoch 10:  loss=0.013  (took 0.76 s)\n",
      "epoch 11:  loss=0.096  (took 0.76 s)\n",
      "epoch 12:  loss=0.167  (took 0.77 s)\n",
      "epoch 13:  loss=0.017  (took 0.76 s)\n",
      "epoch 14:  loss=0.009  (took 0.77 s)\n",
      "epoch 15:  loss=0.006  (took 0.78 s)\n",
      "epoch 16:  loss=0.004  (took 0.77 s)\n",
      "epoch 17:  loss=0.003  (took 0.78 s)\n",
      "epoch 18:  loss=0.002  (took 0.78 s)\n",
      "epoch 19:  loss=0.002  (took 0.76 s)\n"
     ]
    }
   ],
   "source": [
    "losses = []\n",
    "accs = []\n",
    "losses_trunc = {i: [] for i in range(1, 6)}\n",
    "accs_trunc = {i: [] for i in range(1, 6)}\n",
    "losses_res = {i: [] for i in range(1, 6)}\n",
    "accs_res = {i: [] for i in range(1, 6)}\n",
    "for i in range(10):\n",
    "    net = FullRankRNN(2, size, 1, noise_std, alpha, train_wi=True, rho=0.2)\n",
    "    J_init = net.wrec.detach().numpy().copy()\n",
    "    train(net, x_train, y_train, mask_train, 20, lr=1e-3)\n",
    "    loss, acc = raposo.test(net, x_val, y_val, mask_val)\n",
    "    losses.append(loss)\n",
    "    accs.append(acc)\n",
    "    DJ = net.wrec.detach().numpy() - J_init\n",
    "    u, s, v = np.linalg.svd(DJ)\n",
    "    \n",
    "    # Truncating\n",
    "    for rank in range(1, 6):\n",
    "        DJ_new = (u[:, :rank] * s[:rank]) @ v[:rank]\n",
    "        m = u[:, :rank] * np.sqrt(s[:rank]) * np.sqrt(size)\n",
    "        n = (v[:rank].T * np.sqrt(s[:rank])) * np.sqrt(size)\n",
    "        net_trunc = LowRankRNN(2, size, 1, noise_std, alpha, rank=rank, wi_init=net.wi, wo_init=net.wo * size, \n",
    "                               m_init=torch.from_numpy(m), n_init=torch.from_numpy(n))\n",
    "        loss, acc = raposo.test(net_trunc, x_val, y_val, mask_val)\n",
    "        losses_trunc[rank].append(loss)\n",
    "        accs_trunc[rank].append(acc)\n",
    "        \n",
    "        # Resampling\n",
    "        net_res = clustering.to_support_net(net_trunc, np.zeros(size))\n",
    "        losses_cur = []\n",
    "        accs_cur = []\n",
    "        for i in range(10):\n",
    "            net_res.resample_basis()\n",
    "            loss, acc = raposo.test(net_res, x_val, y_val, mask_val)\n",
    "            losses_cur.append(loss)\n",
    "            accs_cur.append(acc)\n",
    "        losses_res[rank].append(losses_cur)\n",
    "        accs_res[rank].append(accs_cur)"
   ]
  },
  {
   "cell_type": "code",
   "execution_count": 15,
   "metadata": {},
   "outputs": [
    {
     "data": {
      "text/plain": [
       "dict_items([(1, [1.0, 1.0, 1.0, 0.9900000095367432, 1.0, 1.0, 1.0, 0.9900000095367432, 1.0, 0.9900000095367432]), (2, [1.0, 1.0, 1.0, 1.0, 1.0, 1.0, 1.0, 1.0, 1.0, 1.0]), (3, [1.0, 1.0, 1.0, 1.0, 1.0, 1.0, 1.0, 1.0, 1.0, 1.0]), (4, [1.0, 1.0, 1.0, 1.0, 1.0, 1.0, 1.0, 1.0, 1.0, 1.0]), (5, [1.0, 1.0, 1.0, 1.0, 1.0, 1.0, 1.0, 1.0, 1.0, 1.0])])"
      ]
     },
     "execution_count": 15,
     "metadata": {},
     "output_type": "execute_result"
    }
   ],
   "source": [
    "accs_trunc.items()"
   ]
  },
  {
   "cell_type": "code",
   "execution_count": 25,
   "metadata": {},
   "outputs": [
    {
     "data": {
      "text/plain": [
       "<matplotlib.lines.Line2D at 0x1a32c170d0>"
      ]
     },
     "execution_count": 25,
     "metadata": {},
     "output_type": "execute_result"
    },
    {
     "data": {
      "image/png": "[encoded data removed]",
      "text/plain": [
       "<Figure size 432x288 with 1 Axes>"
      ]
     },
     "metadata": {
      "needs_background": "light"
     },
     "output_type": "display_data"
    }
   ],
   "source": [
    "fig, ax = plt.subplots(1, 1)\n",
    "keys = sorted(accs_trunc.keys())\n",
    "ax.errorbar(keys, [np.mean(accs_trunc[r]) for r in keys], marker='o', yerr=[np.std(accs_trunc[r]) for r in keys])\n",
    "ax.set_ylim(0, 1.2)\n",
    "ax.set_xlabel('rank')\n",
    "ax.set_ylabel('accuracy')\n",
    "ax.axhline(1, c='k', zorder=-10, lw=1, ls='--')"
   ]
  },
  {
   "cell_type": "code",
   "execution_count": 29,
   "metadata": {},
   "outputs": [
    {
     "data": {
      "text/plain": [
       "<matplotlib.lines.Line2D at 0x1a330ee690>"
      ]
     },
     "execution_count": 29,
     "metadata": {},
     "output_type": "execute_result"
    },
    {
     "data": {
      "image/png": "[encoded data removed]",
      "text/plain": [
       "<Figure size 432x288 with 1 Axes>"
      ]
     },
     "metadata": {
      "needs_background": "light"
     },
     "output_type": "display_data"
    }
   ],
   "source": [
    "fig, ax = plt.subplots(1, 1)\n",
    "keys = sorted(losses_trunc.keys())\n",
    "ax.errorbar(keys, [np.mean(losses_trunc[r]) for r in keys], marker='o', yerr=[np.std(losses_trunc[r]) for r in keys])\n",
    "ax.set_ylim(-0.05, 1.2)\n",
    "ax.set_xlabel('rank')\n",
    "ax.set_ylabel('loss')\n",
    "ax.axhline(np.mean(losses), c='k', zorder=-10, lw=1, ls='--')"
   ]
  },
  {
   "cell_type": "code",
   "execution_count": 28,
   "metadata": {},
   "outputs": [
    {
     "data": {
      "text/plain": [
       "0.0008079344348516315"
      ]
     },
     "execution_count": 28,
     "metadata": {},
     "output_type": "execute_result"
    }
   ],
   "source": [
    "np.mean(losses)"
   ]
  },
  {
   "cell_type": "code",
   "execution_count": 32,
   "metadata": {},
   "outputs": [
    {
     "data": {
      "text/plain": [
       "<matplotlib.lines.Line2D at 0x1a32ff5750>"
      ]
     },
     "execution_count": 32,
     "metadata": {},
     "output_type": "execute_result"
    },
    {
     "data": {
      "image/png": "[encoded data removed]",
      "text/plain": [
       "<Figure size 432x288 with 1 Axes>"
      ]
     },
     "metadata": {
      "needs_background": "light"
     },
     "output_type": "display_data"
    }
   ],
   "source": [
    "fig, ax = plt.subplots(1, 1)\n",
    "keys = sorted(accs_res.keys())\n",
    "ax.errorbar(keys, [np.mean(accs_res[r]) for r in keys], marker='o', yerr=[np.std(accs_res[r]) for r in keys])\n",
    "ax.set_ylim(0, 1.2)\n",
    "ax.set_xlabel('rank')\n",
    "ax.set_ylabel('accuracy')\n",
    "ax.axhline(1, c='k', zorder=-10, lw=1, ls='--')"
   ]
  },
  {
   "cell_type": "code",
   "execution_count": 31,
   "metadata": {},
   "outputs": [
    {
     "data": {
      "text/plain": [
       "0.9982500010728836"
      ]
     },
     "execution_count": 31,
     "metadata": {},
     "output_type": "execute_result"
    }
   ],
   "source": [
    "np.mean(accs_res[1])"
   ]
  },
  {
   "cell_type": "code",
   "execution_count": 33,
   "metadata": {},
   "outputs": [
    {
     "data": {
      "text/plain": [
       "<matplotlib.lines.Line2D at 0x1a3740a1d0>"
      ]
     },
     "execution_count": 33,
     "metadata": {},
     "output_type": "execute_result"
    },
    {
     "data": {
      "image/png": "[encoded data removed]",
      "text/plain": [
       "<Figure size 432x288 with 1 Axes>"
      ]
     },
     "metadata": {
      "needs_background": "light"
     },
     "output_type": "display_data"
    }
   ],
   "source": [
    "fig, ax = plt.subplots(1, 1)\n",
    "keys = sorted(losses_res.keys())\n",
    "ax.errorbar(keys, [np.mean(losses_res[r]) for r in keys], marker='o', yerr=[np.std(losses_res[r]) for r in keys])\n",
    "ax.set_ylim(-0.05, 1.2)\n",
    "ax.set_xlabel('rank')\n",
    "ax.set_ylabel('loss')\n",
    "ax.axhline(np.mean(losses), c='k', zorder=-10, lw=1, ls='--')"
   ]
  },
  {
   "cell_type": "markdown",
   "metadata": {},
   "source": [
    "# Mante"
   ]
  },
  {
   "cell_type": "code",
   "execution_count": 35,
   "metadata": {},
   "outputs": [],
   "source": [
    "x_train, y_train, mask_train, x_val, y_val, mask_val, _ = mante.generate_mante_data(1000, fraction_validation_trials=.2)"
   ]
  },
  {
   "cell_type": "code",
   "execution_count": 44,
   "metadata": {},
   "outputs": [
    {
     "name": "stdout",
     "output_type": "stream",
     "text": [
      "Training...\n",
      "initial loss: 1.007\n",
      "epoch 0:  loss=0.972  (took 0.73 s)\n",
      "epoch 1:  loss=0.681  (took 0.74 s)\n",
      "epoch 2:  loss=0.489  (took 0.72 s)\n",
      "epoch 3:  loss=0.271  (took 0.72 s)\n",
      "epoch 4:  loss=0.232  (took 0.74 s)\n",
      "epoch 5:  loss=0.205  (took 0.72 s)\n",
      "epoch 6:  loss=0.197  (took 0.73 s)\n",
      "epoch 7:  loss=0.181  (took 0.74 s)\n",
      "epoch 8:  loss=0.200  (took 0.75 s)\n",
      "epoch 9:  loss=0.209  (took 0.78 s)\n",
      "epoch 10:  loss=0.140  (took 0.78 s)\n",
      "epoch 11:  loss=0.229  (took 0.73 s)\n",
      "epoch 12:  loss=0.071  (took 0.75 s)\n",
      "epoch 13:  loss=0.042  (took 0.81 s)\n",
      "epoch 14:  loss=0.034  (took 0.88 s)\n",
      "epoch 15:  loss=0.032  (took 0.84 s)\n",
      "epoch 16:  loss=0.268  (took 0.92 s)\n",
      "epoch 17:  loss=0.426  (took 0.86 s)\n",
      "epoch 18:  loss=0.253  (took 0.88 s)\n",
      "epoch 19:  loss=0.068  (took 0.80 s)\n",
      "Training...\n",
      "initial loss: 1.008\n",
      "epoch 0:  loss=0.926  (took 0.80 s)\n",
      "epoch 1:  loss=0.668  (took 0.79 s)\n",
      "epoch 2:  loss=0.394  (took 0.80 s)\n",
      "epoch 3:  loss=0.275  (took 0.79 s)\n",
      "epoch 4:  loss=0.182  (took 0.80 s)\n",
      "epoch 5:  loss=0.129  (took 0.80 s)\n",
      "epoch 6:  loss=0.092  (took 0.83 s)\n",
      "epoch 7:  loss=0.065  (took 0.83 s)\n",
      "epoch 8:  loss=0.066  (took 0.84 s)\n",
      "epoch 9:  loss=0.223  (took 0.86 s)\n",
      "epoch 10:  loss=0.159  (took 0.87 s)\n",
      "epoch 11:  loss=0.075  (took 0.88 s)\n",
      "epoch 12:  loss=0.099  (took 0.92 s)\n",
      "epoch 13:  loss=0.186  (took 0.87 s)\n",
      "epoch 14:  loss=0.174  (took 1.08 s)\n",
      "epoch 15:  loss=0.188  (took 0.98 s)\n",
      "epoch 16:  loss=0.200  (took 0.96 s)\n",
      "epoch 17:  loss=0.038  (took 1.11 s)\n",
      "epoch 18:  loss=0.021  (took 1.20 s)\n",
      "epoch 19:  loss=0.025  (took 1.23 s)\n",
      "Training...\n",
      "initial loss: 1.011\n",
      "epoch 0:  loss=0.960  (took 0.86 s)\n",
      "epoch 1:  loss=0.633  (took 0.89 s)\n",
      "epoch 2:  loss=0.374  (took 0.93 s)\n",
      "epoch 3:  loss=0.397  (took 0.84 s)\n",
      "epoch 4:  loss=0.156  (took 0.84 s)\n",
      "epoch 5:  loss=0.105  (took 0.80 s)\n",
      "epoch 6:  loss=0.104  (took 0.82 s)\n",
      "epoch 7:  loss=0.119  (took 0.88 s)\n",
      "epoch 8:  loss=0.069  (took 0.87 s)\n",
      "epoch 9:  loss=0.093  (took 0.87 s)\n",
      "epoch 10:  loss=0.046  (took 0.84 s)\n",
      "epoch 11:  loss=0.035  (took 0.85 s)\n",
      "epoch 12:  loss=0.026  (took 0.85 s)\n",
      "epoch 13:  loss=0.060  (took 0.84 s)\n",
      "epoch 14:  loss=0.038  (took 0.85 s)\n",
      "epoch 15:  loss=0.022  (took 0.85 s)\n",
      "epoch 16:  loss=0.040  (took 0.99 s)\n",
      "epoch 17:  loss=0.026  (took 0.85 s)\n",
      "epoch 18:  loss=0.009  (took 0.83 s)\n",
      "epoch 19:  loss=0.011  (took 0.81 s)\n",
      "Training...\n",
      "initial loss: 1.010\n",
      "epoch 0:  loss=0.969  (took 0.82 s)\n",
      "epoch 1:  loss=0.743  (took 0.82 s)\n",
      "epoch 2:  loss=0.470  (took 0.82 s)\n",
      "epoch 3:  loss=0.321  (took 0.84 s)\n",
      "epoch 4:  loss=0.246  (took 0.83 s)\n",
      "epoch 5:  loss=0.188  (took 0.82 s)\n",
      "epoch 6:  loss=0.130  (took 0.81 s)\n",
      "epoch 7:  loss=0.103  (took 0.82 s)\n",
      "epoch 8:  loss=0.075  (took 0.81 s)\n",
      "epoch 9:  loss=0.068  (took 0.84 s)\n",
      "epoch 10:  loss=0.092  (took 0.83 s)\n",
      "epoch 11:  loss=0.037  (took 0.84 s)\n",
      "epoch 12:  loss=0.024  (took 0.84 s)\n",
      "epoch 13:  loss=0.029  (took 0.84 s)\n",
      "epoch 14:  loss=0.025  (took 0.84 s)\n",
      "epoch 15:  loss=0.235  (took 0.82 s)\n",
      "epoch 16:  loss=0.146  (took 0.83 s)\n",
      "epoch 17:  loss=0.226  (took 0.82 s)\n",
      "epoch 18:  loss=0.095  (took 0.82 s)\n",
      "epoch 19:  loss=0.018  (took 0.82 s)\n",
      "Training...\n",
      "initial loss: 0.999\n",
      "epoch 0:  loss=0.902  (took 0.79 s)\n",
      "epoch 1:  loss=0.603  (took 0.80 s)\n",
      "epoch 2:  loss=0.317  (took 0.82 s)\n",
      "epoch 3:  loss=0.236  (took 0.83 s)\n",
      "epoch 4:  loss=0.222  (took 0.85 s)\n",
      "epoch 5:  loss=0.098  (took 0.83 s)\n",
      "epoch 6:  loss=0.073  (took 0.85 s)\n",
      "epoch 7:  loss=0.073  (took 0.83 s)\n",
      "epoch 8:  loss=0.088  (took 0.92 s)\n",
      "epoch 9:  loss=0.081  (took 1.12 s)\n",
      "epoch 10:  loss=0.045  (took 0.92 s)\n",
      "epoch 11:  loss=0.026  (took 0.88 s)\n",
      "epoch 12:  loss=0.027  (took 0.84 s)\n",
      "epoch 13:  loss=0.011  (took 0.84 s)\n",
      "epoch 14:  loss=0.054  (took 0.88 s)\n",
      "epoch 15:  loss=0.018  (took 0.96 s)\n",
      "epoch 16:  loss=0.007  (took 0.84 s)\n",
      "epoch 17:  loss=0.036  (took 0.84 s)\n",
      "epoch 18:  loss=0.020  (took 0.84 s)\n",
      "epoch 19:  loss=0.009  (took 0.84 s)\n",
      "Training...\n",
      "initial loss: 1.008\n",
      "epoch 0:  loss=0.936  (took 0.82 s)\n",
      "epoch 1:  loss=0.665  (took 0.87 s)\n",
      "epoch 2:  loss=0.442  (took 0.87 s)\n",
      "epoch 3:  loss=0.338  (took 0.87 s)\n",
      "epoch 4:  loss=0.218  (took 0.83 s)\n",
      "epoch 5:  loss=0.150  (took 0.82 s)\n",
      "epoch 6:  loss=0.159  (took 0.82 s)\n",
      "epoch 7:  loss=0.135  (took 0.84 s)\n",
      "epoch 8:  loss=0.128  (took 0.84 s)\n",
      "epoch 9:  loss=0.102  (took 0.84 s)\n",
      "epoch 10:  loss=0.055  (took 0.84 s)\n",
      "epoch 11:  loss=0.047  (took 0.82 s)\n",
      "epoch 12:  loss=0.079  (took 0.81 s)\n",
      "epoch 13:  loss=0.065  (took 0.79 s)\n",
      "epoch 14:  loss=0.033  (took 0.79 s)\n",
      "epoch 15:  loss=0.023  (took 0.81 s)\n",
      "epoch 16:  loss=0.011  (took 0.82 s)\n",
      "epoch 17:  loss=0.013  (took 0.87 s)\n",
      "epoch 18:  loss=0.011  (took 0.88 s)\n",
      "epoch 19:  loss=0.008  (took 0.91 s)\n",
      "Training...\n",
      "initial loss: 1.001\n",
      "epoch 0:  loss=0.936  (took 0.86 s)\n",
      "epoch 1:  loss=0.635  (took 0.87 s)\n",
      "epoch 2:  loss=0.505  (took 0.85 s)\n",
      "epoch 3:  loss=0.298  (took 0.84 s)\n",
      "epoch 4:  loss=0.217  (took 0.84 s)\n",
      "epoch 5:  loss=0.222  (took 0.83 s)\n",
      "epoch 6:  loss=0.273  (took 0.82 s)\n",
      "epoch 7:  loss=0.128  (took 0.84 s)\n",
      "epoch 8:  loss=0.092  (took 0.85 s)\n",
      "epoch 9:  loss=0.122  (took 0.84 s)\n",
      "epoch 10:  loss=0.065  (took 0.82 s)\n",
      "epoch 11:  loss=0.060  (took 0.82 s)\n",
      "epoch 12:  loss=0.025  (took 0.82 s)\n",
      "epoch 13:  loss=0.066  (took 0.82 s)\n",
      "epoch 14:  loss=0.042  (took 0.81 s)\n",
      "epoch 15:  loss=0.037  (took 0.80 s)\n",
      "epoch 16:  loss=0.026  (took 0.79 s)\n",
      "epoch 17:  loss=0.044  (took 0.79 s)\n",
      "epoch 18:  loss=0.014  (took 0.80 s)\n",
      "epoch 19:  loss=0.016  (took 0.79 s)\n",
      "Training...\n",
      "initial loss: 1.009\n",
      "epoch 0:  loss=0.990  (took 0.81 s)\n",
      "epoch 1:  loss=0.717  (took 0.82 s)\n",
      "epoch 2:  loss=0.493  (took 0.80 s)\n",
      "epoch 3:  loss=0.336  (took 0.81 s)\n",
      "epoch 4:  loss=0.244  (took 0.78 s)\n",
      "epoch 5:  loss=0.216  (took 0.82 s)\n",
      "epoch 6:  loss=0.231  (took 0.84 s)\n",
      "epoch 7:  loss=0.130  (took 0.86 s)\n",
      "epoch 8:  loss=0.099  (took 0.86 s)\n",
      "epoch 9:  loss=0.073  (took 0.83 s)\n",
      "epoch 10:  loss=0.163  (took 0.81 s)\n",
      "epoch 11:  loss=0.159  (took 0.79 s)\n",
      "epoch 12:  loss=0.083  (took 0.78 s)\n",
      "epoch 13:  loss=0.061  (took 0.79 s)\n",
      "epoch 14:  loss=0.036  (took 0.79 s)\n",
      "epoch 15:  loss=0.030  (took 0.79 s)\n",
      "epoch 16:  loss=0.023  (took 0.78 s)\n",
      "epoch 17:  loss=0.024  (took 0.79 s)\n",
      "epoch 18:  loss=0.035  (took 0.77 s)\n",
      "epoch 19:  loss=0.017  (took 0.80 s)\n",
      "Training...\n",
      "initial loss: 0.999\n",
      "epoch 0:  loss=0.935  (took 0.76 s)\n",
      "epoch 1:  loss=0.626  (took 0.79 s)\n",
      "epoch 2:  loss=0.422  (took 0.85 s)\n",
      "epoch 3:  loss=0.328  (took 0.85 s)\n",
      "epoch 4:  loss=0.218  (took 0.85 s)\n",
      "epoch 5:  loss=0.155  (took 0.86 s)\n",
      "epoch 6:  loss=0.240  (took 0.83 s)\n",
      "epoch 7:  loss=0.213  (took 0.82 s)\n",
      "epoch 8:  loss=0.156  (took 0.80 s)\n",
      "epoch 9:  loss=0.258  (took 0.78 s)\n",
      "epoch 10:  loss=0.123  (took 0.80 s)\n",
      "epoch 11:  loss=0.052  (took 0.81 s)\n",
      "epoch 12:  loss=0.038  (took 0.81 s)\n",
      "epoch 13:  loss=0.035  (took 0.81 s)\n",
      "epoch 14:  loss=0.024  (took 0.82 s)\n",
      "epoch 15:  loss=0.024  (took 0.79 s)\n",
      "epoch 16:  loss=0.014  (took 0.78 s)\n",
      "epoch 17:  loss=0.023  (took 0.80 s)\n",
      "epoch 18:  loss=0.109  (took 0.79 s)\n",
      "epoch 19:  loss=0.065  (took 0.78 s)\n",
      "Training...\n",
      "initial loss: 1.000\n",
      "epoch 0:  loss=0.969  (took 0.77 s)\n",
      "epoch 1:  loss=0.676  (took 0.78 s)\n",
      "epoch 2:  loss=0.411  (took 0.81 s)\n",
      "epoch 3:  loss=0.234  (took 0.82 s)\n",
      "epoch 4:  loss=0.163  (took 0.81 s)\n",
      "epoch 5:  loss=0.120  (took 0.81 s)\n",
      "epoch 6:  loss=0.141  (took 0.81 s)\n",
      "epoch 7:  loss=0.136  (took 0.79 s)\n",
      "epoch 8:  loss=0.082  (took 0.80 s)\n",
      "epoch 9:  loss=0.067  (took 0.78 s)\n",
      "epoch 10:  loss=0.064  (took 0.79 s)\n",
      "epoch 11:  loss=0.032  (took 0.80 s)\n",
      "epoch 12:  loss=0.022  (took 0.79 s)\n",
      "epoch 13:  loss=0.023  (took 0.81 s)\n",
      "epoch 14:  loss=0.048  (took 0.81 s)\n",
      "epoch 15:  loss=0.022  (took 0.81 s)\n",
      "epoch 16:  loss=0.018  (took 0.81 s)\n",
      "epoch 17:  loss=0.007  (took 0.79 s)\n",
      "epoch 18:  loss=0.012  (took 0.79 s)\n",
      "epoch 19:  loss=0.005  (took 0.78 s)\n"
     ]
    }
   ],
   "source": [
    "losses = []\n",
    "accs = []\n",
    "losses_trunc = {i: [] for i in range(1, 8)}\n",
    "accs_trunc = {i: [] for i in range(1, 8)}\n",
    "losses_res = {i: [] for i in range(1, 8)}\n",
    "accs_res = {i: [] for i in range(1, 8)}\n",
    "for i in range(10):\n",
    "    net = FullRankRNN(4, size, 1, noise_std, alpha, train_wi=True, rho=0.2)\n",
    "    J_init = net.wrec.detach().numpy().copy()\n",
    "    train(net, x_train, y_train, mask_train, 20, lr=1e-3)\n",
    "    loss, acc = raposo.test(net, x_val, y_val, mask_val)\n",
    "    losses.append(loss)\n",
    "    accs.append(acc)\n",
    "    DJ = net.wrec.detach().numpy() - J_init\n",
    "    u, s, v = np.linalg.svd(DJ + J_init)\n",
    "    \n",
    "    # Truncating\n",
    "    for rank in range(1, 8):\n",
    "        DJ_new = (u[:, :rank] * s[:rank]) @ v[:rank]\n",
    "        m = u[:, :rank] * np.sqrt(s[:rank]) * np.sqrt(size)\n",
    "        n = (v[:rank].T * np.sqrt(s[:rank])) * np.sqrt(size)\n",
    "        net_trunc = LowRankRNN(4, size, 1, noise_std, alpha, rank=rank, wi_init=net.wi, wo_init=net.wo * size, \n",
    "                               m_init=torch.from_numpy(m), n_init=torch.from_numpy(n))\n",
    "        loss, acc = raposo.test(net_trunc, x_val, y_val, mask_val)\n",
    "        losses_trunc[rank].append(loss)\n",
    "        accs_trunc[rank].append(acc)\n",
    "        \n",
    "        # Resampling\n",
    "        net_res = clustering.to_support_net(net_trunc, np.zeros(size))\n",
    "        losses_cur = []\n",
    "        accs_cur = []\n",
    "        for i in range(10):\n",
    "            net_res.resample_basis()\n",
    "            loss, acc = raposo.test(net_res, x_val, y_val, mask_val)\n",
    "            losses_cur.append(loss)\n",
    "            accs_cur.append(acc)\n",
    "        losses_res[rank].append(losses_cur)\n",
    "        accs_res[rank].append(accs_cur)"
   ]
  },
  {
   "cell_type": "code",
   "execution_count": 45,
   "metadata": {},
   "outputs": [
    {
     "data": {
      "text/plain": [
       "<matplotlib.lines.Line2D at 0x1a3336c510>"
      ]
     },
     "execution_count": 45,
     "metadata": {},
     "output_type": "execute_result"
    },
    {
     "data": {
      "image/png": "[encoded data removed]",
      "text/plain": [
       "<Figure size 432x288 with 1 Axes>"
      ]
     },
     "metadata": {
      "needs_background": "light"
     },
     "output_type": "display_data"
    }
   ],
   "source": [
    "fig, ax = plt.subplots(1, 1)\n",
    "keys = sorted(accs_trunc.keys())\n",
    "ax.errorbar(keys, [np.mean(accs_trunc[r]) for r in keys], marker='o', yerr=[np.std(accs_trunc[r]) for r in keys])\n",
    "ax.set_ylim(0, 1.2)\n",
    "ax.set_xlabel('rank')\n",
    "ax.set_ylabel('accuracy')\n",
    "ax.axhline(1, c='k', zorder=-10, lw=1, ls='--')"
   ]
  },
  {
   "cell_type": "code",
   "execution_count": 46,
   "metadata": {},
   "outputs": [
    {
     "data": {
      "text/plain": [
       "<matplotlib.lines.Line2D at 0x1a3b9c7f10>"
      ]
     },
     "execution_count": 46,
     "metadata": {},
     "output_type": "execute_result"
    },
    {
     "data": {
      "image/png": "[encoded data removed]",
      "text/plain": [
       "<Figure size 432x288 with 1 Axes>"
      ]
     },
     "metadata": {
      "needs_background": "light"
     },
     "output_type": "display_data"
    }
   ],
   "source": [
    "fig, ax = plt.subplots(1, 1)\n",
    "keys = sorted(losses_trunc.keys())\n",
    "ax.errorbar(keys, [np.mean(losses_trunc[r]) for r in keys], marker='o', yerr=[np.std(losses_trunc[r]) for r in keys])\n",
    "ax.set_ylim(-0.05, 1.2)\n",
    "ax.set_xlabel('rank')\n",
    "ax.set_ylabel('loss')\n",
    "ax.axhline(np.mean(losses), c='k', zorder=-10, lw=1, ls='--')"
   ]
  },
  {
   "cell_type": "code",
   "execution_count": 47,
   "metadata": {},
   "outputs": [
    {
     "data": {
      "text/plain": [
       "<matplotlib.lines.Line2D at 0x1a376b9b90>"
      ]
     },
     "execution_count": 47,
     "metadata": {},
     "output_type": "execute_result"
    },
    {
     "data": {
      "image/png": "[encoded data removed]",
      "text/plain": [
       "<Figure size 432x288 with 1 Axes>"
      ]
     },
     "metadata": {
      "needs_background": "light"
     },
     "output_type": "display_data"
    }
   ],
   "source": [
    "fig, ax = plt.subplots(1, 1)\n",
    "keys = sorted(accs_res.keys())\n",
    "ax.errorbar(keys, [np.mean(accs_res[r]) for r in keys], marker='o', yerr=[np.std(accs_res[r]) for r in keys])\n",
    "ax.set_ylim(0, 1.2)\n",
    "ax.set_xlabel('rank')\n",
    "ax.set_ylabel('accuracy')\n",
    "ax.axhline(1, c='k', zorder=-10, lw=1, ls='--')"
   ]
  },
  {
   "cell_type": "code",
   "execution_count": 48,
   "metadata": {},
   "outputs": [
    {
     "data": {
      "text/plain": [
       "<matplotlib.lines.Line2D at 0x1a39053c10>"
      ]
     },
     "execution_count": 48,
     "metadata": {},
     "output_type": "execute_result"
    },
    {
     "data": {
      "image/png": "[encoded data removed]",
      "text/plain": [
       "<Figure size 432x288 with 1 Axes>"
      ]
     },
     "metadata": {
      "needs_background": "light"
     },
     "output_type": "display_data"
    }
   ],
   "source": [
    "fig, ax = plt.subplots(1, 1)\n",
    "keys = sorted(losses_res.keys())\n",
    "ax.errorbar(keys, [np.mean(losses_res[r]) for r in keys], marker='o', yerr=[np.std(losses_res[r]) for r in keys])\n",
    "ax.set_ylim(-0.05, 1.2)\n",
    "ax.set_xlabel('rank')\n",
    "ax.set_ylabel('loss')\n",
    "ax.axhline(np.mean(losses), c='k', zorder=-10, lw=1, ls='--')"
   ]
  },
  {
   "cell_type": "code",
   "execution_count": null,
   "metadata": {},
   "outputs": [],
   "source": []
  }
 ],
 "metadata": {
  "kernelspec": {
   "display_name": "Python 3",
   "language": "python",
   "name": "python3"
  },
  "language_info": {
   "codemirror_mode": {
    "name": "ipython",
    "version": 3
   },
   "file_extension": ".py",
   "mimetype": "text/x-python",
   "name": "python",
   "nbconvert_exporter": "python",
   "pygments_lexer": "ipython3",
   "version": "3.7.4"
  }
 },
 "nbformat": 4,
 "nbformat_minor": 2
}
