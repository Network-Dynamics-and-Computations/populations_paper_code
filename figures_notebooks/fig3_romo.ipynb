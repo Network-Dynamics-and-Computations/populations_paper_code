{
 "cells": [
  {
   "cell_type": "code",
   "execution_count": 1,
   "metadata": {},
   "outputs": [],
   "source": [
    "import sys\n",
    "sys.path.append('../')\n",
    "\n",
    "import torch\n",
    "import numpy as np\n",
    "import matplotlib.pyplot as plt\n",
    "import matplotlib\n",
    "from low_rank_rnns.modules import *\n",
    "from low_rank_rnns import romo, clustering, helpers, rankone, ranktwo"
   ]
  },
  {
   "cell_type": "code",
   "execution_count": 2,
   "metadata": {},
   "outputs": [],
   "source": [
    "helpers.setup_matplotlib(release=True)"
   ]
  },
  {
   "cell_type": "code",
   "execution_count": 3,
   "metadata": {},
   "outputs": [],
   "source": [
    "def time_mapping(t):\n",
    "    return t * romo.deltaT / 1000"
   ]
  },
  {
   "cell_type": "code",
   "execution_count": 4,
   "metadata": {},
   "outputs": [
    {
     "name": "stdout",
     "output_type": "stream",
     "text": [
      "[(34, 10), (26, 10), (27, 11), (28, 12), (29, 13), (30, 14), (31, 15), (32, 16), (33, 17), (34, 18), (18, 10), (19, 11), (20, 12), (21, 13), (22, 14), (23, 15), (24, 16), (25, 17), (26, 18), (27, 19), (28, 20), (29, 21), (30, 22), (31, 23), (32, 24), (33, 25), (34, 26), (10, 18), (11, 19), (12, 20), (13, 21), (14, 22), (15, 23), (16, 24), (17, 25), (18, 26), (19, 27), (20, 28), (21, 29), (22, 30), (23, 31), (24, 32), (25, 33), (26, 34), (10, 26), (11, 27), (12, 28), (13, 29), (14, 30), (15, 31), (16, 32), (17, 33), (18, 34), (10, 34)]\n"
     ]
    }
   ],
   "source": [
    "hidden_size = 500\n",
    "noise_std = 5e-2\n",
    "alpha = 0.2\n",
    "fixed_delay = 50\n",
    "end_task = fixed_delay + 30\n",
    "x_train, y_train, mask_train, x_val, y_val, mask_val = romo.generate_data(1000);\n",
    "net = LowRankRNN(1, hidden_size, 1, noise_std, alpha, train_wi=False, train_wo=False, rank=2);\n",
    "net.load_state_dict(torch.load('../models/romo_rank2_500.pt', map_location='cpu'))\n",
    "net.svd_reparametrization()\n",
    "print(romo.fpairs_global)"
   ]
  },
  {
   "cell_type": "code",
   "execution_count": 5,
   "metadata": {},
   "outputs": [],
   "source": [
    "loss_orig, acc_orig = romo.test_romo(net, x_val, y_val, mask_val)"
   ]
  },
  {
   "cell_type": "code",
   "execution_count": 6,
   "metadata": {},
   "outputs": [],
   "source": [
    "m1 = net.m[:,0].detach().numpy()\n",
    "n1 = net.n[:,0].detach().numpy()\n",
    "m2 = net.m[:,1].detach().numpy()\n",
    "n2 = net.n[:,1].detach().numpy()\n",
    "wi = net.wi_full[0].detach().numpy()\n",
    "wo = net.wo_full[:,0].detach().numpy()\n",
    "vectors = [-wi, n1, n2, m1, m2, -wo]"
   ]
  },
  {
   "cell_type": "markdown",
   "metadata": {},
   "source": [
    "# Traces"
   ]
  },
  {
   "cell_type": "code",
   "execution_count": 9,
   "metadata": {},
   "outputs": [
    {
     "data": {
      "image/png": "[encoded data removed]",
      "text/plain": [
       "<Figure size 88.2x252 with 3 Axes>"
      ]
     },
     "metadata": {
      "needs_background": "light"
     },
     "output_type": "display_data"
    }
   ],
   "source": [
    "figsize_default = plt.rcParams['figure.figsize']\n",
    "figsize = (.7 * .7 * figsize_default[0], 2 * .7 * figsize_default[1])\n",
    "\n",
    "stim2_begin = romo.stim1_end + fixed_delay\n",
    "stim2_end = stim2_begin + romo.stimulus2_duration_discrete\n",
    "end_decision = stim2_end + romo.decision_duration_discrete\n",
    "fpair1 = (30, 12)\n",
    "net.noise_std = noise_std\n",
    "cmap = plt.get_cmap('jet')\n",
    "color = cmap(0)\n",
    "x1, y1, mask1, _, _, _ = romo.generate_data(1, fpairs=[(25, 30)], fraction_validation_trials=0., \n",
    "                                            delay_discrete=fixed_delay)\n",
    "outp1, trajectories = net.forward(x1[:, :end_task, :], return_dynamics=True)\n",
    "trajectories = trajectories.detach().numpy().squeeze()\n",
    "rates = np.tanh(trajectories)\n",
    "time = time_mapping(np.arange(x1.shape[1]))\n",
    "\n",
    "fig, ax = plt.subplots(3, 1, figsize=figsize, gridspec_kw={'height_ratios': [1, 2, 1]})\n",
    "x1 = x1.squeeze().numpy()\n",
    "ax[0].plot(time[:end_task], x1[:end_task], lw=1, c=color)\n",
    "ax[0].spines['top'].set_visible(False)\n",
    "ax[0].spines['right'].set_visible(False)\n",
    "ax[0].axvspan(time_mapping(romo.fixation_duration_discrete), time_mapping(romo.stim1_end), alpha=.2, color='gray')\n",
    "ax[0].axvspan(time_mapping(stim2_begin), time_mapping(stim2_end), alpha=.2, color='gray')\n",
    "ax[0].axvspan(time_mapping(stim2_end), time_mapping(end_decision), alpha=.2, color='sandybrown')\n",
    "ax[0].set(yticks=[0, .3], xticks=[], ylabel='input', yticklabels=['$0$', '$30$'])\n",
    "ax[0].text(s='$f_1$', x=.09, y=.4)\n",
    "ax[0].text(s='$f_2$', x=1.1, y=.4)\n",
    "\n",
    "n_neurons = 5\n",
    "neurons = np.random.choice(hidden_size, n_neurons, replace=False)\n",
    "extracted_act1 = rates[:, neurons]\n",
    "helpers.plot_rates_single_neurons(extracted_act1, offset=.3, deltaT=romo.deltaT, colors=[color] * n_neurons,\n",
    "                                       figsize=matplotlib.rcParams['figure.figsize'], ax=ax[1])\n",
    "ax[1].axvspan(time_mapping(romo.fixation_duration_discrete), time_mapping(romo.stim1_end), alpha=.2, color='gray')\n",
    "ax[1].axvspan(time_mapping(stim2_begin), time_mapping(stim2_end), alpha=.2, color='gray')\n",
    "ax[1].axvspan(time_mapping(stim2_end), time_mapping(end_decision), alpha=.2, color='sandybrown')\n",
    "ax[1].set(ylabel='rates', xticks=[], yticks=[])\n",
    "ax[1].spines['bottom'].set_visible(False)\n",
    "ax[1].spines['top'].set_visible(False)\n",
    "ax[1].spines['right'].set_visible(False)\n",
    "ax[1].spines['left'].set_visible(False)\n",
    "\n",
    "\n",
    "ax[2].plot(time_mapping(np.arange(outp1.shape[1])), outp1[0,:,0].detach().numpy(), color=color, zorder=30, lw=1)\n",
    "y1 = y1.squeeze().numpy()\n",
    "ax[2].plot(time_mapping(np.arange(stim2_end, end_decision)), y1[stim2_end:end_decision], color='r', zorder=20)\n",
    "ax[2].spines['top'].set_visible(False)\n",
    "ax[2].spines['right'].set_visible(False)\n",
    "ax[2].axvspan(time_mapping(romo.fixation_duration_discrete), time_mapping(romo.stim1_end), alpha=.2, color='gray')\n",
    "ax[2].axvspan(time_mapping(stim2_begin), time_mapping(stim2_end), alpha=.2, color='gray')\n",
    "ax[2].axvspan(time_mapping(stim2_end), time_mapping(end_decision), alpha=.2, color='sandybrown')\n",
    "ax[2].set(yticks=[-.2, 0, .2], xticks=[0, .5, 1, 1.5], ylim=(-.3, .3), ylabel='output', xlabel='time (s)')\n",
    "\n",
    "fig.align_ylabels()\n",
    "#plt.savefig('figures/3_romo_traces.pdf', bbox_inches='tight')"
   ]
  },
  {
   "cell_type": "markdown",
   "metadata": {},
   "source": [
    "# Connectivity"
   ]
  },
  {
   "cell_type": "code",
   "execution_count": 12,
   "metadata": {},
   "outputs": [
    {
     "data": {
      "image/png": "[encoded data removed]",
      "text/plain": [
       "<Figure size 63x126 with 2 Axes>"
      ]
     },
     "metadata": {},
     "output_type": "display_data"
    }
   ],
   "source": [
    "color = 'lightslategray'\n",
    "figsize_default = plt.rcParams['figure.figsize']\n",
    "fig, ax = plt.subplots(2, 1, figsize=(figsize_default[0] / 2 * .7, figsize_default[1] * .7))\n",
    "helpers.center_axes(ax[0])\n",
    "ax[0].scatter(m2, n2, c=color, s=1, zorder=30)\n",
    "ax[0].set_xticks([])\n",
    "ax[0].set_yticks([])\n",
    "ax[0].set_xlim(-5, 5)\n",
    "ax[0].set_ylim(-5, 5)\n",
    "ax[0].set_xlabel('$m_i^{(1)}$', horizontalalignment='right', x=1.2)\n",
    "ax[0].set_ylabel('$n_i^{(1)}$', horizontalalignment='right', y=.9, rotation='horizontal')\n",
    "\n",
    "helpers.center_axes(ax[1])\n",
    "ax[1].scatter(m1, n1, c=color, s=.7, zorder=30)\n",
    "ax[1].set_xticks([])\n",
    "ax[1].set_yticks([])\n",
    "ax[1].set_xlabel('$m_i^{(2)}$', horizontalalignment='right', x=1.2)\n",
    "ax[1].set_ylabel('$n_i^{(2)}$', horizontalalignment='right', y=.8, rotation='horizontal')\n",
    "\n",
    "plt.subplots_adjust(hspace=.3)\n",
    "\n",
    "#plt.savefig('figures/3_romo_scatters.pdf', bbox_inches='tight')"
   ]
  },
  {
   "cell_type": "code",
   "execution_count": 15,
   "metadata": {},
   "outputs": [
    {
     "data": {
      "image/png": "[encoded data removed]",
      "text/plain": [
       "<Figure size 151.2x151.2 with 2 Axes>"
      ]
     },
     "metadata": {
      "needs_background": "light"
     },
     "output_type": "display_data"
    }
   ],
   "source": [
    "lsize = 9\n",
    "rescaled_vectors = [-wi, n2, n1, m2, m1, wo / sqrt(hidden_size)]\n",
    "ov = helpers.overlap_matrix(rescaled_vectors)\n",
    "labels = ['$I$', '$n^{(1)}$', '$n^{(2)}$', '$m^{(1)}$', '$m^{(2)}$', '$w$']\n",
    "bound = np.max((np.abs(np.min(ov)), np.abs(np.max(ov))))\n",
    "fig, ax = plt.subplots(figsize=(2.1, 2.1))\n",
    "helpers.get_lower_tri_heatmap(ov, cbar=True, cbar_shrink=.5, figsize=(4, 3), cbar_pad=.3, ax=ax)\n",
    "ax.set_xticks(np.array(list(range(len(labels) - 1))) + .5)\n",
    "ax.set_xticklabels(labels[1:])\n",
    "ax.set_yticks(np.array(list(range(len(labels) - 1))) + .5)\n",
    "ax.set_yticklabels(labels[:-1])\n",
    "ax.xaxis.set_tick_params(labelsize=lsize)\n",
    "ax.yaxis.set_tick_params(rotation=0, labelsize=lsize)\n",
    "#plt.savefig('figures/3_romo_overlap_matrix.pdf', bbox_inches='tight')"
   ]
  },
  {
   "cell_type": "markdown",
   "metadata": {},
   "source": [
    "# Dynamics"
   ]
  },
  {
   "cell_type": "code",
   "execution_count": 18,
   "metadata": {},
   "outputs": [
    {
     "name": "stderr",
     "output_type": "stream",
     "text": [
      "/Users/avalente/opt/anaconda3/lib/python3.7/site-packages/ipykernel_launcher.py:72: UserWarning: Use the colorbar set_ticks() method instead.\n"
     ]
    },
    {
     "data": {
      "image/png": "[encoded data removed]",
      "text/plain": [
       "<Figure size 117x117 with 5 Axes>"
      ]
     },
     "metadata": {
      "needs_background": "light"
     },
     "output_type": "display_data"
    }
   ],
   "source": [
    "f1s = list(range(10, 35, 4))\n",
    "f2 = 20\n",
    "net.noise_std = 0\n",
    "delay = 1000 // 20\n",
    "time1 = time_mapping(delay + 10)\n",
    "time2 = time_mapping(end_task + 10)\n",
    "fig, axes = plt.subplots(2, 2, gridspec_kw={'width_ratios': [time1 / time2, 1]}, figsize=(.65 * 2.5, .65*2.5))\n",
    "\n",
    "cmap = plt.get_cmap('jet')\n",
    "for i, f1 in enumerate(f1s):\n",
    "    input_c, target_c, mask_c, _, _, _ = romo.generate_data(1, fpairs=[(f1, f2)], std=0., \n",
    "                                                           fraction_validation_trials=0.,\n",
    "                                                           delay_discrete=delay)\n",
    "    output_c, activations = net.forward(input_c, return_dynamics=True)\n",
    "    activations = activations.detach().numpy().squeeze()\n",
    "    rates = np.tanh(activations)\n",
    "    ## INVERSION HERE\n",
    "    kappa1 = rates @ n2 / sqrt(hidden_size)\n",
    "    kappa2 = rates @ n1 / sqrt(hidden_size)\n",
    "    seq_len = input_c.shape[1] + 1\n",
    "    axes[0][0].plot(time_mapping(np.arange(len(kappa1))), kappa1, label=str(f1), c=cmap(i/len(f1s)), lw=1)\n",
    "    axes[1][0].plot(time_mapping(np.arange(len(kappa1))), kappa2, label=str(f1), c=cmap(i/len(f1s)), lw=1)\n",
    "    \n",
    "for ax in (axes[0][0], axes[1][0]):\n",
    "    ax.set(xlim=(0, time1), yticks=[-5, 0, 5], xticks=[0, 1], ylim=(-7, 7))\n",
    "    ax.spines['top'].set_visible(False)\n",
    "    ax.spines['right'].set_visible(False)\n",
    "    ax.axvspan(time_mapping(romo.fixation_duration_discrete), time_mapping(romo.stim1_end), color='gray', alpha=.2)\n",
    "\n",
    "f1 = 30\n",
    "f2s = list(range(10, 35, 4))\n",
    "for i, f2 in enumerate(f2s):\n",
    "    input_c, target_c, mask_c, _, _, _ = romo.generate_data(1, fpairs=[(f1, f2)], std=0., \n",
    "                                                           fraction_validation_trials=0.,\n",
    "                                                           delay_discrete=delay)\n",
    "    output_c, activations = net.forward(input_c, return_dynamics=True)\n",
    "    activations = activations.detach().numpy().squeeze()\n",
    "    rates = np.tanh(activations)\n",
    "    ## INVERSION HERE\n",
    "    kappa1 = rates @ n2 / sqrt(hidden_size)\n",
    "    kappa2 = rates @ n1 / sqrt(hidden_size)\n",
    "    seq_len = input_c.shape[1] + 1\n",
    "    axes[0][1].plot(time_mapping(np.arange(len(kappa1))), kappa1, label=str(f2), c=cmap(i/len(f2s)), lw=1)\n",
    "    axes[1][1].plot(time_mapping(np.arange(len(kappa1))), kappa2, label=str(f2), c=cmap(i/len(f2s)), lw=1)\n",
    "\n",
    "for ax in (axes[0][1], axes[1][1]):\n",
    "    ax.set(xlim=(0, time2), yticks=[-5, 0, 5], xticks=[0, 1], ylim=(-7, 7))\n",
    "    ax.spines['top'].set_visible(False)\n",
    "    ax.spines['right'].set_visible(False)\n",
    "    ax.axvspan(time_mapping(romo.fixation_duration_discrete), time_mapping(romo.stim1_end), color='gray', alpha=.2)\n",
    "    stim2_beg = romo.stim1_end + delay\n",
    "    stim2_end = stim2_beg + romo.stimulus2_duration_discrete\n",
    "    ax.axvspan(time_mapping(stim2_beg), time_mapping(stim2_end), color='silver', alpha=.2)\n",
    "    ax.axvspan(time_mapping(stim2_end), time_mapping(stim2_end + romo.decision_duration_discrete), \n",
    "               color='sandybrown', alpha=.2)\n",
    "    \n",
    "axes[0][0].set_xticklabels([''] * 3)\n",
    "axes[0][0].set_ylabel('$\\kappa_1$')\n",
    "axes[0][1].set_xticklabels([''] * 3)\n",
    "axes[0][1].set_yticklabels([''] * 3)\n",
    "axes[1][0].set_ylabel('$\\kappa_2$')\n",
    "axes[1][0].set_xlabel('time (s)')\n",
    "axes[1][1].set_yticklabels([''] * 3)\n",
    "axes[1][1].set_xlabel('time (s)')\n",
    "axes[0][0].text(s='Stim. 1', x=.65, y=9, horizontalalignment='center')\n",
    "axes[0][1].text(s='Stim. 2', x=.85, y=9, horizontalalignment='center')\n",
    "\n",
    "w = .02\n",
    "h = .25\n",
    "ax_cbar = fig.add_axes((1, .5 - h/2, w, h))\n",
    "matplotlib.colorbar.ColorbarBase(ax_cbar, cmap=cmap, orientation='vertical')\n",
    "ax_cbar.set(yticks=[0, 1], yticklabels=['$10$ Hz', '$34$ Hz'])\n",
    "\n",
    "plt.show()\n",
    "#fig.savefig('figures/3_romo_kappas.pdf', bbox_inches='tight')"
   ]
  },
  {
   "cell_type": "markdown",
   "metadata": {},
   "source": [
    "# Resampling"
   ]
  },
  {
   "cell_type": "code",
   "execution_count": 22,
   "metadata": {},
   "outputs": [],
   "source": [
    "accs = []\n",
    "\n",
    "# Resample a few networks\n",
    "n_samples = 10\n",
    "for _ in range(n_samples):  \n",
    "    net2 = clustering.to_support_net(net, np.zeros(hidden_size))\n",
    "    loss, acc = romo.test_romo(net2, x_val, y_val, mask_val)\n",
    "    accs.append(acc)\n",
    "    \n",
    "net_rec = SupportLowRankRNN_withMask(1, 1024, 1, noise_std, alpha, rank=2, n_supports=1, gaussian_basis_dim=3)\n",
    "net_rec.load_state_dict(torch.load('../models/romo_rank2_reconstructed_1024.pt'))\n",
    "accs_rec = []\n",
    "for _ in range(n_samples):  \n",
    "    net_rec.resample_basis()\n",
    "    loss, acc = romo.test_romo(net_rec, x_val, y_val, mask_val)\n",
    "    accs_rec.append(acc)"
   ]
  },
  {
   "cell_type": "code",
   "execution_count": 23,
   "metadata": {},
   "outputs": [
    {
     "data": {
      "image/png": "[encoded data removed]",
      "text/plain": [
       "<Figure size 100.8x90.72 with 1 Axes>"
      ]
     },
     "metadata": {
      "needs_background": "light"
     },
     "output_type": "display_data"
    }
   ],
   "source": [
    "figsize_orig = plt.rcParams['figure.figsize']\n",
    "helpers.boxplot_accuracies([acc_orig, accs, accs_rec], labels=['trained', 'resampled', 'reduced'],\n",
    "                          figsize=(2*.7, 1.8*.7))\n",
    "#plt.savefig('figures/3_romo_resampling.pdf', bbox_inches='tight')"
   ]
  },
  {
   "cell_type": "code",
   "execution_count": 24,
   "metadata": {},
   "outputs": [
    {
     "name": "stderr",
     "output_type": "stream",
     "text": [
      "/Users/avalente/opt/anaconda3/lib/python3.7/site-packages/ipykernel_launcher.py:14: UserWarning: Use the colorbar set_ticks() method instead.\n",
      "  \n"
     ]
    },
    {
     "data": {
      "image/png": "[encoded data removed]",
      "text/plain": [
       "<Figure size 180x360 with 4 Axes>"
      ]
     },
     "metadata": {
      "needs_background": "light"
     },
     "output_type": "display_data"
    }
   ],
   "source": [
    "fig, ax = plt.subplots(1, 3, figsize=(2.5, 5))\n",
    "romo.psychometric_matrices(net, binarize=1, ax=ax[0], ylabel=True)\n",
    "ax[0].set_title('trained')\n",
    "romo.psychometric_matrices(net2, binarize=1, ax=ax[1])\n",
    "ax[1].set_title('resamp.')\n",
    "romo.psychometric_matrices(net_rec, binarize=1, ax=ax[2])\n",
    "ax[2].set_title('reduced')\n",
    "\n",
    "w = .01\n",
    "h = .1\n",
    "ax_cbar = fig.add_axes((1.01, .5 - h/2, w, h))\n",
    "cmap = plt.get_cmap('gray')\n",
    "matplotlib.colorbar.ColorbarBase(ax_cbar, cmap=cmap, orientation='vertical')\n",
    "ax_cbar.set(yticks=[0, 1])\n",
    "#plt.savefig('figures/3_romo_psycho_matrix.pdf', bbox_inches='tight')"
   ]
  },
  {
   "cell_type": "code",
   "execution_count": null,
   "metadata": {},
   "outputs": [],
   "source": []
  }
 ],
 "metadata": {
  "kernelspec": {
   "display_name": "Python 3",
   "language": "python",
   "name": "python3"
  },
  "language_info": {
   "codemirror_mode": {
    "name": "ipython",
    "version": 3
   },
   "file_extension": ".py",
   "mimetype": "text/x-python",
   "name": "python",
   "nbconvert_exporter": "python",
   "pygments_lexer": "ipython3",
   "version": "3.7.4"
  }
 },
 "nbformat": 4,
 "nbformat_minor": 2
}
