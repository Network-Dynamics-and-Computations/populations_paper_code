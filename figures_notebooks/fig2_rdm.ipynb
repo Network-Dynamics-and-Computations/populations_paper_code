{
 "cells": [
  {
   "cell_type": "markdown",
   "metadata": {},
   "source": [
    "DM task analysis for figure 2."
   ]
  },
  {
   "cell_type": "code",
   "execution_count": 1,
   "metadata": {},
   "outputs": [],
   "source": [
    "import sys\n",
    "sys.path.append('../')\n",
    "from low_rank_rnns import helpers, rdm, rankone, clustering\n",
    "from low_rank_rnns.modules import *\n"
   ]
  },
  {
   "cell_type": "code",
   "execution_count": 2,
   "metadata": {},
   "outputs": [],
   "source": [
    "helpers.setup_matplotlib()"
   ]
  },
  {
   "cell_type": "code",
   "execution_count": 3,
   "metadata": {},
   "outputs": [],
   "source": [
    "col1 = 'indianred'\n",
    "col2 = 'royalblue'\n",
    "col_stim_period = 'silver'\n",
    "col_response_period = 'sandybrown'"
   ]
  },
  {
   "cell_type": "code",
   "execution_count": 4,
   "metadata": {},
   "outputs": [],
   "source": [
    "def time_mapping(t):\n",
    "    return t * rdm.deltaT / 1000"
   ]
  },
  {
   "cell_type": "code",
   "execution_count": 5,
   "metadata": {},
   "outputs": [],
   "source": [
    "hidden_size = 512\n",
    "noise_std = 5e-2\n",
    "alpha = 0.2\n",
    "x_train, y_train, mask_train, x_val, y_val, mask_val = rdm.generate_rdm_data(1000)\n",
    "net = LowRankRNN(1, hidden_size, 1, noise_std, alpha, train_wi=False, train_wo=False, rank=1)\n",
    "net.load_state_dict(torch.load(f'../models/rdm_lr_fig2.pt', map_location='cpu'))"
   ]
  },
  {
   "cell_type": "code",
   "execution_count": 6,
   "metadata": {},
   "outputs": [
    {
     "name": "stdout",
     "output_type": "stream",
     "text": [
      "0.0007509163697250187 1.0\n"
     ]
    }
   ],
   "source": [
    "loss_orig, acc_orig = rdm.test_rdm(net, x_val, y_val, mask_val)\n",
    "print(loss_orig, acc_orig)"
   ]
  },
  {
   "cell_type": "code",
   "execution_count": 7,
   "metadata": {},
   "outputs": [],
   "source": [
    "m = net.m[:,0].detach().numpy()\n",
    "n = net.n[:,0].detach().numpy()\n",
    "wi = net.wi_full[0].detach().numpy()\n",
    "wo = net.wo_full[:,0].detach().numpy()\n",
    "\n",
    "m = -m\n",
    "n = -n"
   ]
  },
  {
   "cell_type": "code",
   "execution_count": 8,
   "metadata": {},
   "outputs": [
    {
     "data": {
      "text/plain": [
       "[<matplotlib.lines.Line2D at 0x154012d50>]"
      ]
     },
     "execution_count": 8,
     "metadata": {},
     "output_type": "execute_result"
    },
    {
     "data": {
      "image/png": "[encoded data removed]",
      "text/plain": [
       "<Figure size 216x144 with 1 Axes>"
      ]
     },
     "metadata": {
      "needs_background": "light"
     },
     "output_type": "display_data"
    },
    {
     "data": {
      "image/png": "[encoded data removed]",
      "text/plain": [
       "<Figure size 216x144 with 1 Axes>"
      ]
     },
     "metadata": {
      "needs_background": "light"
     },
     "output_type": "display_data"
    }
   ],
   "source": [
    "coh1 = 1\n",
    "coh2 = -1\n",
    "net.noise_std = noise_std\n",
    "\n",
    "# Generate data and network response\n",
    "x1, y1, mask1, _, _, _ = rdm.generate_rdm_data(1, coherences=[coh1], fraction_validation_trials=0.)\n",
    "x2, y2, mask2, _, _, _ = rdm.generate_rdm_data(1, coherences=[coh2], fraction_validation_trials=0.)\n",
    "outp1, trajectories = net.forward(x1, return_dynamics=True)\n",
    "trajectories = trajectories.detach().numpy().squeeze()\n",
    "rates1 = np.tanh(trajectories)\n",
    "outp2, trajectories = net.forward(x2, return_dynamics=True)\n",
    "trajectories = trajectories.detach().numpy().squeeze()\n",
    "rates2 = np.tanh(trajectories)\n",
    "outp1 = outp1.detach().squeeze().numpy()\n",
    "outp2 = outp2.detach().squeeze().numpy()\n",
    "\n",
    "# Task epochs\n",
    "task_len = x1.shape[1]\n",
    "stim_beg = rdm.fixation_duration_discrete\n",
    "stim_end = rdm.stimulus_end\n",
    "decision_beg = rdm.response_begin\n",
    "time = time_mapping(np.arange(task_len))\n",
    "\n",
    "fig, ax = plt.subplots(figsize=(3, 2))\n",
    "\n",
    "# input\n",
    "x1 = x1.squeeze().numpy()\n",
    "x2 = x2.squeeze().numpy()\n",
    "ax.plot(time, x1, c=col1, lw=3)\n",
    "ax.plot(time, x2, c=col2, lw=3, alpha=.8)\n",
    "ax.plot(time[stim_beg:stim_end], [coh1 * rdm.SCALE] * (stim_end - stim_beg), alpha=.4, lw=4, c=col1)\n",
    "ax.plot(time[stim_beg:stim_end], [coh2 * rdm.SCALE] * (stim_end - stim_beg), alpha=.4, c=col2, lw=4)\n",
    "ax.set_axis_off()\n",
    "ax.axvspan(time_mapping(decision_beg), time_mapping(task_len), alpha=.2, color=col_response_period)\n",
    "ax.set(yticks=[0], xticks=[], ylabel='input')\n",
    "plt.plot([0, 0.2], [-.4, -.4], c='gray', lw=4)\n",
    "# plt.savefig('figure_2/rdm_input.pdf', bbox_inches='tight')\n",
    "\n",
    "# output\n",
    "fig, ax = plt.subplots(figsize=(3, 2))\n",
    "ax.plot(time, outp1, lw=3, c=col1)\n",
    "ax.plot(time, outp2, lw=3, c=col2, alpha=.8)\n",
    "ax.set_ylim(-1.2, 1.1)\n",
    "ax.set_axis_off()\n",
    "ax.axvspan(time_mapping(decision_beg), time_mapping(task_len), alpha=.2, color=col_response_period)\n",
    "plt.plot([0, 0.2], [-1.1, -1.1], c='gray', lw=4)\n",
    "# plt.savefig('figure_2/rdm_output.pdf', bbox_inches='tight')"
   ]
  },
  {
   "cell_type": "code",
   "execution_count": 9,
   "metadata": {},
   "outputs": [
    {
     "name": "stdout",
     "output_type": "stream",
     "text": [
      "(4, 152)\n",
      "(4, 152, 512)\n"
     ]
    },
    {
     "data": {
      "image/png": "[encoded data removed]",
      "text/plain": [
       "<Figure size 360x288 with 1 Axes>"
      ]
     },
     "metadata": {
      "needs_background": "light"
     },
     "output_type": "display_data"
    }
   ],
   "source": [
    "ymin=-.065\n",
    "ymax=.065\n",
    "\n",
    "plt.rcParams['text.usetex'] = True\n",
    "\n",
    "fig, ax = plt.subplots(figsize=(5, 4))\n",
    "net.noise_std = 0.\n",
    "\n",
    "inputs = torch.zeros((4, rdm.total_duration + 100, 1))\n",
    "inputs[0, rdm.fixation_duration_discrete:rdm.stimulus_end] += .2 * rdm.SCALE\n",
    "inputs[1, rdm.fixation_duration_discrete:rdm.stimulus_end] += .6 * rdm.SCALE\n",
    "inputs[2, rdm.fixation_duration_discrete:rdm.stimulus_end] += -.2 * rdm.SCALE\n",
    "inputs[3, rdm.fixation_duration_discrete:rdm.stimulus_end] += -.6 * rdm.SCALE\n",
    "_, traj = net.forward(inputs, return_dynamics=True)\n",
    "traj = net.non_linearity(traj).detach().squeeze().numpy()\n",
    "\n",
    "i_orth = wi - (wi @ m) * m / (m @ m)\n",
    "proj1 = traj @ m / (m @ m)\n",
    "proj2 = traj @ i_orth / (i_orth @ i_orth)\n",
    "print(proj1.shape)\n",
    "print(traj.shape)\n",
    "plt.plot(proj1[1], proj2[1], lw=3, label='+0.6', c=col1)\n",
    "plt.plot(proj1[0], proj2[0], lw=3, label='+0.2', c=col1, alpha=.5)\n",
    "plt.plot(proj1[2], proj2[2], lw=3, label='-0.2', c=col2, alpha=.5)\n",
    "plt.plot(proj1[3], proj2[3], lw=3, label='-0.6', c=col2)\n",
    "ax.set_ylim(ymin, ymax)\n",
    "\n",
    "ax.set_axis_off()\n",
    "ax.quiver(0, 0, 1, 0, scale=8, color='green')\n",
    "ax.quiver(0, 0, wi @ m / (m @ m), wi @ i_orth / (i_orth @ i_orth), scale=8, color='purple')\n",
    "ax.quiver(0, 0, n @ m / (m @ m), n @ i_orth / (i_orth @ i_orth), scale=5, color='goldenrod')\n",
    "ax.text(-.05, .01, '$\\mathbf{I}$', size=25, color='purple')\n",
    "ax.text(.14, -.005, '$\\mathbf{m}$', size=25, color='green')\n",
    "ax.text(.15, .006, '$\\mathbf{n}$', size=25, color='goldenrod')\n",
    "ax.legend(bbox_to_anchor=(1., .5), loc='center left', labelspacing=.3, handlelength=.8, title='Input', \n",
    "          fontsize=18, title_fontsize=20, frameon=False)\n",
    "net.noise_std = noise_std\n",
    "# plt.savefig('figure_2/rdm_trajectories.pdf', bbox_inches='tight')"
   ]
  },
  {
   "cell_type": "code",
   "execution_count": 10,
   "metadata": {},
   "outputs": [],
   "source": [
    "# Resample a network\n",
    "net2 = clustering.to_support_net(net, np.zeros(hidden_size))\n",
    "loss, acc = rdm.test_rdm(net2, x_val, y_val, mask_val)\n"
   ]
  },
  {
   "cell_type": "code",
   "execution_count": 11,
   "metadata": {},
   "outputs": [
    {
     "data": {
      "text/plain": [
       "<matplotlib.legend.Legend at 0x1095dff90>"
      ]
     },
     "execution_count": 11,
     "metadata": {},
     "output_type": "execute_result"
    },
    {
     "data": {
      "image/png": "[encoded data removed]",
      "text/plain": [
       "<Figure size 216x144 with 1 Axes>"
      ]
     },
     "metadata": {
      "needs_background": "light"
     },
     "output_type": "display_data"
    }
   ],
   "source": [
    "cohs = [-2, -1, -.5, -.2, 0., .2, .5, 1, 2]\n",
    "probs_trained = []\n",
    "probs_reconstructed = []\n",
    "probs_res = []\n",
    "fig, ax = plt.subplots(figsize=(3., 2))\n",
    "\n",
    "# Trained net\n",
    "for coh in cohs:\n",
    "    input, target, mask, _, _, _ = rdm.generate_rdm_data(50, coherences=[coh], fraction_validation_trials=0)\n",
    "    with torch.no_grad():\n",
    "        output = net(input)\n",
    "        decisions = (torch.sign(output[:, rdm.response_begin:, 0].mean(dim=1).squeeze()) + 1) // 2\n",
    "        probs_trained.append(decisions.mean().item())\n",
    "        \n",
    "        output = net2(input)\n",
    "        decisions = (torch.sign(output[:, rdm.response_begin:, 0].mean(dim=1).squeeze()) + 1) // 2\n",
    "        probs_res.append(decisions.mean().item())\n",
    "        \n",
    "ax.plot(np.array(cohs), probs_res, c='gray', lw=3, label='trained', marker='o')\n",
    "ax.plot(np.array(cohs), probs_trained, c='seagreen', lw=3, label='resamp.', marker='o')\n",
    "\n",
    "ax.spines['top'].set_visible(False)\n",
    "ax.spines['right'].set_visible(False)\n",
    "ax.set_yticks([0., .5, 1.])\n",
    "ax.set_xlabel('input')\n",
    "ax.set_ylabel('positive choices')\n",
    "ax.legend(frameon=False, fontsize=19, bbox_to_anchor=(.8, .8))\n",
    "# plt.savefig('figure_2/rdm_psycho.pdf', bbox_inches='tight')"
   ]
  },
  {
   "cell_type": "code",
   "execution_count": 12,
   "metadata": {},
   "outputs": [
    {
     "data": {
      "text/plain": [
       "(-5.011630821228027, 5.011630821228027)"
      ]
     },
     "execution_count": 12,
     "metadata": {},
     "output_type": "execute_result"
    },
    {
     "data": {
      "image/png": "[encoded data removed]",
      "text/plain": [
       "<Figure size 288x288 with 1 Axes>"
      ]
     },
     "metadata": {},
     "output_type": "display_data"
    }
   ],
   "source": [
    "color = sns.color_palette('deep')[0]\n",
    "\n",
    "fig, ax = plt.subplots(figsize=(4, 4))\n",
    "ax.scatter(m, n, color=color, s=20)\n",
    "helpers.center_axes(ax)\n",
    "xlim = 1.3 * max(-np.min(m), np.max(m))\n",
    "ylim = 1.3 * max(-np.min(n), np.max(n))\n",
    "ax.set_xlim(-xlim, xlim)\n",
    "ax.set_ylim(-ylim, ylim)\n",
    "\n",
    "# plt.savefig('figure_2/rdm_scatter1.pdf')"
   ]
  },
  {
   "cell_type": "code",
   "execution_count": 13,
   "metadata": {},
   "outputs": [
    {
     "data": {
      "text/plain": [
       "(-5.011630821228027, 5.011630821228027)"
      ]
     },
     "execution_count": 13,
     "metadata": {},
     "output_type": "execute_result"
    },
    {
     "data": {
      "image/png": "[encoded data removed]",
      "text/plain": [
       "<Figure size 288x288 with 1 Axes>"
      ]
     },
     "metadata": {},
     "output_type": "display_data"
    }
   ],
   "source": [
    "color = sns.color_palette('deep')[0]\n",
    "\n",
    "fig, ax = plt.subplots(figsize=(4, 4))\n",
    "ax.scatter(wi, n, color=color, s=20)\n",
    "helpers.center_axes(ax)\n",
    "xlim = 1.05 * max(-np.min(wi), np.max(wi))\n",
    "ylim = 1.3 * max(-np.min(n), np.max(n))\n",
    "ax.set_xlim(-xlim, xlim)\n",
    "ax.set_ylim(-ylim, ylim)\n",
    "\n",
    "# plt.savefig('figure_2/rdm_scatter2.pdf')"
   ]
  },
  {
   "cell_type": "code",
   "execution_count": 14,
   "metadata": {},
   "outputs": [
    {
     "name": "stdout",
     "output_type": "stream",
     "text": [
      "[[ True False False False]\n",
      " [ True  True False False]\n",
      " [ True  True  True False]\n",
      " [ True  True  True  True]]\n",
      "[[ 0.          0.90636241  0.49015319 -0.06277603]\n",
      " [ 0.          0.          1.3232739   0.72842503]\n",
      " [ 0.          0.          0.          2.44673157]\n",
      " [ 0.          0.          0.          0.        ]]\n"
     ]
    },
    {
     "data": {
      "image/png": "[encoded data removed]",
      "text/plain": [
       "<Figure size 432x288 with 2 Axes>"
      ]
     },
     "metadata": {
      "needs_background": "light"
     },
     "output_type": "display_data"
    }
   ],
   "source": [
    "lsize = 32\n",
    "plt.rcParams['text.usetex'] = True\n",
    "vectors = [wi, n, m, wo]\n",
    "labels = ['$I$', '$n$', '$m$ ', '$w$']\n",
    "ov = helpers.overlap_matrix(vectors)\n",
    "fig, ax = plt.subplots()\n",
    "helpers.get_lower_tri_heatmap(ov, cbar=True, cbar_shrink=1, cbar_pad=.15, ax=ax)\n",
    "ax.set_xticks([.5, 1.5, 2.5])\n",
    "ax.set_xticklabels(labels[1:])\n",
    "ax.set_yticklabels(labels[:-1])\n",
    "ax.xaxis.set_tick_params(labelsize=lsize)\n",
    "ax.yaxis.set_tick_params(rotation=0, labelsize=lsize)\n",
    "# plt.savefig('si_networks/rdm_overlap.pdf', bbox_inches='tight')"
   ]
  },
  {
   "cell_type": "code",
   "execution_count": null,
   "metadata": {},
   "outputs": [],
   "source": []
  }
 ],
 "metadata": {
  "kernelspec": {
   "display_name": "Python 3",
   "language": "python",
   "name": "python3"
  },
  "language_info": {
   "codemirror_mode": {
    "name": "ipython",
    "version": 3
   },
   "file_extension": ".py",
   "mimetype": "text/x-python",
   "name": "python",
   "nbconvert_exporter": "python",
   "pygments_lexer": "ipython3",
   "version": "3.7.4"
  }
 },
 "nbformat": 4,
 "nbformat_minor": 4
}
