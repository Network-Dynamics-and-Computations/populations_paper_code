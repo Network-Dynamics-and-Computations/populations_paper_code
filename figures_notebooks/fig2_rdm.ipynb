{
 "cells": [
  {
   "cell_type": "code",
   "execution_count": 1,
   "metadata": {},
   "outputs": [],
   "source": [
    "import sys\n",
    "sys.path.append('../')\n",
    "\n",
    "import torch\n",
    "import numpy as np\n",
    "import matplotlib.pyplot as plt\n",
    "import matplotlib\n",
    "import seaborn as sns\n",
    "from sklearn.decomposition import PCA\n",
    "from low_rank_rnns.modules import *\n",
    "from low_rank_rnns import rdm, clustering, helpers, rankone"
   ]
  },
  {
   "cell_type": "code",
   "execution_count": 2,
   "metadata": {},
   "outputs": [],
   "source": [
    "helpers.setup_matplotlib(release=True)\n",
    "cmap = sns.diverging_palette(255, 133, l=50, s=75, n=12)\n",
    "col1 = np.array([237, 144, 10]) / 255\n",
    "col2 = np.array([116, 134, 190]) / 255\n",
    "col_stim_period = 'silver'\n",
    "col_response_period = 'sandybrown'"
   ]
  },
  {
   "cell_type": "code",
   "execution_count": 3,
   "metadata": {},
   "outputs": [],
   "source": [
    "def time_mapping(t):\n",
    "    return t * rdm.deltaT / 1000"
   ]
  },
  {
   "cell_type": "code",
   "execution_count": 4,
   "metadata": {},
   "outputs": [],
   "source": [
    "hidden_size = 512\n",
    "noise_std = 5e-2\n",
    "alpha = 0.2\n",
    "x_train, y_train, mask_train, x_val, y_val, mask_val = rdm.generate_rdm_data(1000)\n",
    "net = LowRankRNN(1, hidden_size, 1, noise_std, alpha, train_wi=False, train_wo=False, rank=1)\n",
    "net.load_state_dict(torch.load(f'../models/rdm_rank1_{hidden_size}.pt', map_location='cpu'))"
   ]
  },
  {
   "cell_type": "code",
   "execution_count": 5,
   "metadata": {},
   "outputs": [],
   "source": [
    "loss_orig, acc_orig = rdm.test_rdm(net, x_val, y_val, mask_val)"
   ]
  },
  {
   "cell_type": "code",
   "execution_count": 6,
   "metadata": {},
   "outputs": [],
   "source": [
    "m = net.m[:,0].detach().numpy()\n",
    "n = net.n[:,0].detach().numpy()\n",
    "wi = net.wi_full[0].detach().numpy()\n",
    "wo = net.wo_full[:,0].detach().numpy()"
   ]
  },
  {
   "cell_type": "markdown",
   "metadata": {},
   "source": [
    "# Traces"
   ]
  },
  {
   "cell_type": "code",
   "execution_count": 7,
   "metadata": {},
   "outputs": [
    {
     "data": {
      "image/png": "[encoded data removed]",
      "text/plain": [
       "<Figure size 94.5x270 with 4 Axes>"
      ]
     },
     "metadata": {
      "needs_background": "light"
     },
     "output_type": "display_data"
    }
   ],
   "source": [
    "coh1 = .6\n",
    "coh2 = -.6\n",
    "net.noise_std = noise_std\n",
    "\n",
    "# Generate data and network response\n",
    "x1, y1, mask1, _, _, _ = rdm.generate_rdm_data(1, coherences=[coh1], fraction_validation_trials=0.)\n",
    "x2, y2, mask2, _, _, _ = rdm.generate_rdm_data(1, coherences=[coh2], fraction_validation_trials=0.)\n",
    "outp1, trajectories = net.forward(x1, return_dynamics=True)\n",
    "trajectories = trajectories.detach().numpy().squeeze()\n",
    "rates1 = np.tanh(trajectories)\n",
    "outp2, trajectories = net.forward(x2, return_dynamics=True)\n",
    "trajectories = trajectories.detach().numpy().squeeze()\n",
    "rates2 = np.tanh(trajectories)\n",
    "outp1 = outp1.detach().squeeze().numpy()\n",
    "outp2 = outp2.detach().squeeze().numpy()\n",
    "\n",
    "# Task epochs\n",
    "task_len = x1.shape[1]\n",
    "stim_beg = rdm.fixation_duration_discrete\n",
    "stim_end = rdm.stimulus_end\n",
    "decision_beg = rdm.response_begin\n",
    "time = time_mapping(np.arange(task_len))\n",
    "\n",
    "default_figsize = plt.rcParams['figure.figsize']\n",
    "fig, ax = plt.subplots(4, 1, figsize=(2.5 * .7 * .75, 2.5 * 2 * .75))\n",
    "\n",
    "# input\n",
    "x1 = x1.squeeze().numpy()\n",
    "x2 = x2.squeeze().numpy()\n",
    "ax[0].plot(time, x1, c=col1)\n",
    "ax[0].plot(time, x2, c=col2)\n",
    "ax[0].plot(time[stim_beg:stim_end], [coh1 * rdm.SCALE / 100] * (stim_end - stim_beg), ls='--', c=col1)\n",
    "ax[0].plot(time[stim_beg:stim_end], [coh2 * rdm.SCALE / 100] * (stim_end - stim_beg), ls='--', c=col2)\n",
    "ax[0].spines['top'].set_visible(False)\n",
    "ax[0].spines['right'].set_visible(False)\n",
    "ax[0].spines['bottom'].set_position('zero')\n",
    "ax[0].axvspan(time_mapping(stim_beg), time_mapping(stim_end), alpha=.2, color=col_stim_period)\n",
    "ax[0].axvspan(time_mapping(decision_beg), time_mapping(task_len), alpha=.2, color=col_response_period)\n",
    "ax[0].set(yticks=[0], xticks=[], ylabel='input')\n",
    "\n",
    "# single neurons\n",
    "n_neurons = 3\n",
    "neurons = np.random.choice(hidden_size, n_neurons, replace=False)\n",
    "\n",
    "extracted_act1 = rates1[:, neurons]\n",
    "helpers.plot_rates_single_neurons(extracted_act1, offset=.3, deltaT=rdm.deltaT, colors=[col1] * n_neurons,\n",
    "                                       ax=ax[1])\n",
    "ax[1].axvspan(time_mapping(stim_beg), time_mapping(stim_end), alpha=.2, color=col_stim_period)\n",
    "ax[1].axvspan(time_mapping(decision_beg), time_mapping(task_len), alpha=.2, color=col_response_period)\n",
    "ax[1].set(ylabel='rates', yticks = [], xticks=[])\n",
    "ax[1].spines['bottom'].set_visible(False)\n",
    "ax[1].spines['top'].set_visible(False)\n",
    "ax[1].spines['right'].set_visible(False)\n",
    "ax[1].spines['left'].set_visible(False)\n",
    "\n",
    "extracted_act2 = rates2[:, neurons]\n",
    "helpers.plot_rates_single_neurons(extracted_act2, offset=.3, deltaT=rdm.deltaT, colors=[col2] * n_neurons,\n",
    "                                       ax=ax[2])\n",
    "ax[2].axvspan(time_mapping(stim_beg), time_mapping(stim_end), alpha=.2, color=col_stim_period)\n",
    "ax[2].axvspan(time_mapping(decision_beg), time_mapping(task_len), alpha=.2, color=col_response_period)\n",
    "ax[2].set(ylabel='rates', yticks=[], xticks=[])\n",
    "ax[2].spines['bottom'].set_visible(False)\n",
    "ax[2].spines['top'].set_visible(False)\n",
    "ax[2].spines['right'].set_visible(False)\n",
    "ax[2].spines['left'].set_visible(False)\n",
    "\n",
    "# output\n",
    "ax[3].plot(time, outp1, c=col1)\n",
    "ax[3].plot(time, outp2, c=col2)\n",
    "ax[3].spines['top'].set_visible(False)\n",
    "ax[3].spines['right'].set_visible(False)\n",
    "ax[3].set(xticks=[0, .5, 1, 1.5], xlabel='time (s)', ylabel='output')\n",
    "ax[3].axvspan(time_mapping(stim_beg), time_mapping(stim_end), alpha=.2, color=col_stim_period)\n",
    "ax[3].axvspan(time_mapping(decision_beg), time_mapping(task_len), alpha=.2, color=col_response_period)\n",
    "\n",
    "fig.align_ylabels()\n",
    "\n",
    "#plt.savefig('figures/2_rdm_traces.pdf', bbox_inches='tight')"
   ]
  },
  {
   "cell_type": "markdown",
   "metadata": {},
   "source": [
    "# Populations and overlaps"
   ]
  },
  {
   "cell_type": "code",
   "execution_count": 8,
   "metadata": {},
   "outputs": [
    {
     "data": {
      "text/plain": [
       "Text(0, 0.9, '$n_i$')"
      ]
     },
     "execution_count": 8,
     "metadata": {},
     "output_type": "execute_result"
    },
    {
     "data": {
      "image/png": "[encoded data removed]",
      "text/plain": [
       "<Figure size 63x126 with 2 Axes>"
      ]
     },
     "metadata": {},
     "output_type": "display_data"
    }
   ],
   "source": [
    "# Scatter n, wi and m, n\n",
    "color = 'lightslategray'\n",
    "\n",
    "figsize_default = plt.rcParams['figure.figsize']\n",
    "fig, ax = plt.subplots(2, 1, figsize=(figsize_default[0] / 2 * .7, figsize_default[1] * .7))\n",
    "helpers.center_axes(ax[0])\n",
    "ax[0].scatter(n, wi, c=color, s=.5, zorder=30)\n",
    "ax[0].set_xticks([])\n",
    "ax[0].set_yticks([])\n",
    "ax[0].set_xlim(-5, 5)\n",
    "ax[0].set_ylim(-8, 8)\n",
    "ax[0].set_xlabel('$n_i$', horizontalalignment='right', x=1.05)\n",
    "ax[0].set_ylabel('$I_i$', horizontalalignment='right', y=.9, rotation='horizontal')\n",
    "\n",
    "helpers.center_axes(ax[1])\n",
    "ax[1].scatter(m, n, c=color, s=.5, zorder=30)\n",
    "ax[1].set_xticks([])\n",
    "ax[1].set_yticks([])\n",
    "ax[1].set_xlim(-5, 5)\n",
    "ax[1].set_ylim(-7, 7)\n",
    "ax[1].set_xlabel('$m_i$', horizontalalignment='right', x=1.)\n",
    "ax[1].set_ylabel('$n_i$', horizontalalignment='right', y=.9, rotation='horizontal')\n",
    "\n",
    "#plt.savefig('figures/2_rdm_scatters.pdf', bbox_inches='tight')\n"
   ]
  },
  {
   "cell_type": "code",
   "execution_count": 9,
   "metadata": {},
   "outputs": [
    {
     "data": {
      "image/png": "[encoded data removed]",
      "text/plain": [
       "<Figure size 99x99 with 2 Axes>"
      ]
     },
     "metadata": {
      "needs_background": "light"
     },
     "output_type": "display_data"
    }
   ],
   "source": [
    "lsize = 10\n",
    "vectors = [wi, n, m, wo]\n",
    "labels = ['$I$', '$n$', '$m$ ', '$w$']\n",
    "ov = helpers.overlap_matrix(vectors, triangular=True)\n",
    "fig, ax = plt.subplots(figsize=(2.5 * .55, 2.5 * .55))\n",
    "helpers.get_lower_tri_heatmap(ov, cbar=True, cbar_shrink=.4, cbar_pad=.3, ax=ax)\n",
    "ax.set_xticks([.5, 1.5, 2.5])\n",
    "ax.set_xticklabels(labels[1:])\n",
    "ax.set_yticklabels(labels[:-1])\n",
    "ax.xaxis.set_tick_params(labelsize=lsize)\n",
    "ax.yaxis.set_tick_params(rotation=0, labelsize=lsize)\n",
    "#plt.savefig('figures/2_rdm_overlap_matrix.pdf', bbox_inches='tight')"
   ]
  },
  {
   "cell_type": "markdown",
   "metadata": {},
   "source": [
    "# Resampling"
   ]
  },
  {
   "cell_type": "code",
   "execution_count": 10,
   "metadata": {},
   "outputs": [],
   "source": [
    "# Resample a few networks\n",
    "accs = []\n",
    "\n",
    "n_samples = 10\n",
    "for _ in range(n_samples):  \n",
    "    net2 = clustering.to_support_net(net, np.zeros(hidden_size))\n",
    "    loss, acc = rdm.test_rdm(net2, x_val, y_val, mask_val)\n",
    "    accs.append(acc)"
   ]
  },
  {
   "cell_type": "code",
   "execution_count": 11,
   "metadata": {},
   "outputs": [],
   "source": [
    "# Load the reduced model\n",
    "nsup = 1\n",
    "dim = 2\n",
    "rank = 1\n",
    "net_red = SupportLowRankRNN_withMask(1, hidden_size, 1, noise_std, alpha, rank=1, n_supports=nsup, gaussian_basis_dim=dim)\n",
    "net_red.load_state_dict(torch.load(f'../models/rdm_rank1_reconstructed_{hidden_size}.pt', map_location='cpu'))\n",
    "\n",
    "accs_red = []\n",
    "for _ in range(n_samples): \n",
    "    net_red.resample_basis()\n",
    "    loss, acc = rdm.test_rdm(net_red, x_val, y_val, mask_val)\n",
    "    accs_red.append(acc)"
   ]
  },
  {
   "cell_type": "code",
   "execution_count": 12,
   "metadata": {},
   "outputs": [
    {
     "data": {
      "text/plain": [
       "<matplotlib.axes._subplots.AxesSubplot at 0x147284a50>"
      ]
     },
     "execution_count": 12,
     "metadata": {},
     "output_type": "execute_result"
    },
    {
     "data": {
      "image/png": "[encoded data removed]",
      "text/plain": [
       "<Figure size 100.8x100.8 with 1 Axes>"
      ]
     },
     "metadata": {
      "needs_background": "light"
     },
     "output_type": "display_data"
    }
   ],
   "source": [
    "helpers.boxplot_accuracies([acc_orig, accs, accs_red], labels=['trained', 'resampled', 'reduced'], \n",
    "                           figsize=(2 * .7, 2 * .7))\n",
    "#plt.savefig('figures/2_rdm_resampling.pdf', bbox_inches='tight')"
   ]
  },
  {
   "cell_type": "code",
   "execution_count": 13,
   "metadata": {},
   "outputs": [
    {
     "data": {
      "text/plain": [
       "<matplotlib.legend.Legend at 0x147394a90>"
      ]
     },
     "execution_count": 13,
     "metadata": {},
     "output_type": "execute_result"
    },
    {
     "data": {
      "image/png": "[encoded data removed]",
      "text/plain": [
       "<Figure size 100.8x100.8 with 1 Axes>"
      ]
     },
     "metadata": {
      "needs_background": "light"
     },
     "output_type": "display_data"
    }
   ],
   "source": [
    "cohs = [-4, -2, -1, -.5, 0., .5, 1, 2, 4]\n",
    "probs_trained = []\n",
    "probs_reconstructed = []\n",
    "probs_res = []\n",
    "fig, ax = plt.subplots(1, 1, figsize=(2 * .7, 2 * .7))\n",
    "\n",
    "# Trained net\n",
    "for coh in cohs:\n",
    "    input, target, mask, _, _, _ = rdm.generate_rdm_data(50, coherences=[coh], fraction_validation_trials=0)\n",
    "    with torch.no_grad():\n",
    "        output = net(input)\n",
    "        decisions = (torch.sign(output[:, rdm.response_begin:, 0].mean(dim=1).squeeze()) + 1) // 2\n",
    "        probs_trained.append(decisions.mean().item())\n",
    "        \n",
    "        output = net2(input)\n",
    "        decisions = (torch.sign(output[:, rdm.response_begin:, 0].mean(dim=1).squeeze()) + 1) // 2\n",
    "        probs_res.append(decisions.mean().item())\n",
    "        \n",
    "        output = net_red(input)\n",
    "        decisions = (torch.sign(output[:, rdm.response_begin:, 0].mean(dim=1).squeeze()) + 1) // 2\n",
    "        probs_reconstructed.append(decisions.mean().item())\n",
    "        \n",
    "h1 = ax.errorbar(np.array(cohs) * 100 / 16, probs_res, c='gray', ls='', marker='.', ms=6)\n",
    "ax.plot(np.array(cohs) * 100 / 16, probs_res, c='gray', alpha=.5)\n",
    "h2 = ax.scatter(np.array(cohs) * 100 / 16, probs_trained, c='seagreen', s=20, marker='s', zorder=30)\n",
    "ax.plot(np.array(cohs) * 100 / 16, probs_trained, c='seagreen', alpha=.5)\n",
    "h3 = ax.scatter(np.array(cohs) * 100 / 16, probs_reconstructed, c='indianred', marker='^', s=20, zorder=30)\n",
    "ax.plot(np.array(cohs) * 100 / 16, probs_reconstructed, c='indianred', alpha=.5)\n",
    "\n",
    "ax.spines['top'].set_visible(False)\n",
    "ax.spines['right'].set_visible(False)\n",
    "ax.set_yticks([0., .5, 1.])\n",
    "ax.set_xlabel('coherence (\\%)')\n",
    "ax.set_ylabel('choices to right')\n",
    "ax.legend([h1, h2, h3], ['trained', 'resamp.', 'reduced'], loc='center left', frameon=False, bbox_to_anchor=(.7, .5),\n",
    "         fontsize=11, labelspacing=.3, handletextpad=.2)\n",
    "#plt.savefig('figures/2_rdm_psychometric_curves.pdf', bbox_inches='tight')"
   ]
  },
  {
   "cell_type": "markdown",
   "metadata": {},
   "source": [
    "# Dynamics"
   ]
  },
  {
   "cell_type": "code",
   "execution_count": 14,
   "metadata": {},
   "outputs": [
    {
     "data": {
      "image/png": "[encoded data removed]",
      "text/plain": [
       "<Figure size 100.8x86.4 with 1 Axes>"
      ]
     },
     "metadata": {
      "needs_background": "light"
     },
     "output_type": "display_data"
    },
    {
     "data": {
      "image/png": "[encoded data removed]",
      "text/plain": [
       "<Figure size 100.8x86.4 with 1 Axes>"
      ]
     },
     "metadata": {},
     "output_type": "display_data"
    }
   ],
   "source": [
    "cohs = [-4, -1, 1, 4]\n",
    "fig, ax = plt.subplots(1, 1, figsize=(1.4, 1.2))\n",
    "\n",
    "net.noise_std = 0\n",
    "for coh in cohs:\n",
    "    input_c, target_c, mask_c, _, _, _ = rdm.generate_rdm_data(1, coherences=[coh], std=0., \n",
    "                                                           fraction_validation_trials=0.)\n",
    "    output_c, activations = net.forward(input_c, return_dynamics=True)\n",
    "    activations = activations.detach().numpy().squeeze()\n",
    "    rates = np.tanh(activations)\n",
    "    kappa = rates @ n / net.hidden_size\n",
    "    seq_len = input_c.shape[1] + 1\n",
    "    if coh==cohs[0]:\n",
    "        pl4, = ax.plot(time_mapping(np.arange(len(kappa))), kappa, c=col2)\n",
    "    elif coh==cohs[1]:\n",
    "        pl3, = ax.plot(time_mapping(np.arange(len(kappa))), kappa, c=col2, alpha=.5)\n",
    "    elif coh==cohs[2]:\n",
    "        pl2, = ax.plot(time_mapping(np.arange(len(kappa))), kappa, c=col1, alpha=.5)\n",
    "    elif coh==cohs[3]:\n",
    "        pl1, = ax.plot(time_mapping(np.arange(len(kappa))), kappa, c=col1)\n",
    "        \n",
    "# Task epochs\n",
    "stim_beg = rdm.fixation_duration_discrete\n",
    "stim_end = rdm.stimulus_end\n",
    "decision_beg = rdm.response_begin\n",
    "task_len = decision_beg + rdm.decision_duration_discrete\n",
    "time = time_mapping(np.arange(task_len))\n",
    "\n",
    "ax.axvspan(time_mapping(stim_beg), time_mapping(stim_end), alpha=.2, color=col_stim_period)\n",
    "ax.axvspan(time_mapping(decision_beg), time_mapping(task_len), alpha=.2, color=col_response_period)\n",
    "ax.set_yticks([-1, 0, 1])\n",
    "ax.set_xticks([0, .5, 1, 1.5])\n",
    "ax.set_xlabel('time (s)')\n",
    "ax.set_ylabel('internal var. $\\kappa$')\n",
    "ax.spines['top'].set_visible(False)\n",
    "ax.spines['right'].set_visible(False)\n",
    "ax.legend([pl1, pl2, pl3, pl4], ['+25\\%', '+6\\%', '-6\\%', '-25\\%'], bbox_to_anchor=(-1.3, .5), \n",
    "          loc='center left', labelspacing=.3, handlelength=.8, title='coherence', fontsize=10)\n",
    "#plt.savefig('figures/2_rdm_kappa.pdf', bbox_inches='tight')\n",
    "\n",
    "\n",
    "ymin=-.7\n",
    "ymax=.7\n",
    "fig, ax = plt.subplots(figsize=(1.4, 1.2))\n",
    "data, _, _, _, _, _ = rdm.generate_rdm_data(1, [1], 0, 0)\n",
    "pl2 = rankone.plot_trial_averaged_trajectory(net, data, wi, ax, c=col1, alpha=.5)\n",
    "data, _, _, _, _, _ = rdm.generate_rdm_data(1, [4], 0, 0)\n",
    "pl1 = rankone.plot_trial_averaged_trajectory(net, data, wi, ax, c=col1)\n",
    "data, _, _, _, _, _ = rdm.generate_rdm_data(1, [-1], 0, 0)\n",
    "pl3 = rankone.plot_trial_averaged_trajectory(net, data, wi, ax, c=col2, alpha=.5)\n",
    "data, _, _, _, _, _ = rdm.generate_rdm_data(1, [-4], 0, 0)\n",
    "pl4 = rankone.plot_trial_averaged_trajectory(net, data, wi, ax, c=col2)\n",
    "ax.set_ylim(ymin, ymax)\n",
    "helpers.center_axes(ax)\n",
    "ax.set_xlabel('$\\kappa(t)$', horizontalalignment='right', x=1.1)\n",
    "ax.set_ylabel('$u(t)$', horizontalalignment='right', y=.9, rotation=0)\n",
    "\n",
    "net.noise_std = noise_std\n",
    "#plt.savefig('figures/2_rdm_dynamics.pdf', bbox_inches='tight')"
   ]
  },
  {
   "cell_type": "code",
   "execution_count": 15,
   "metadata": {},
   "outputs": [
    {
     "data": {
      "image/png": "[encoded data removed]",
      "text/plain": [
       "<Figure size 100.8x100.8 with 1 Axes>"
      ]
     },
     "metadata": {},
     "output_type": "display_data"
    }
   ],
   "source": [
    "ymin=-.7\n",
    "ymax=.7\n",
    "\n",
    "fig, ax = plt.subplots(figsize=(1.4, 1.4))\n",
    "net.noise_std = 0.\n",
    "data, _, _, _, _, _ = rdm.generate_rdm_data(1, [1], 0, 0)\n",
    "pl2 = rankone.plot_trial_averaged_trajectory(net, data, wi, ax, c=col1, alpha=.5)\n",
    "data, _, _, _, _, _ = rdm.generate_rdm_data(1, [4], 0, 0)\n",
    "pl1 = rankone.plot_trial_averaged_trajectory(net, data, wi, ax, c=col1)\n",
    "data, _, _, _, _, _ = rdm.generate_rdm_data(1, [-1], 0, 0)\n",
    "pl3 = rankone.plot_trial_averaged_trajectory(net, data, wi, ax, c=col2, alpha=.5)\n",
    "data, _, _, _, _, _ = rdm.generate_rdm_data(1, [-4], 0, 0)\n",
    "pl4 = rankone.plot_trial_averaged_trajectory(net, data, wi, ax, c=col2)\n",
    "ax.set_ylim(ymin, ymax)\n",
    "\n",
    "helpers.center_axes(ax)\n",
    "ax.set_xlabel('$\\kappa(t)$', horizontalalignment='right', x=1.1)\n",
    "ax.set_ylabel('$u(t)$', horizontalalignment='right', y=.9, rotation=0)\n",
    "ax.legend([pl1, pl2, pl3, pl4], ['+25\\%', '+6\\%', '-6\\%', '-25\\%'], bbox_to_anchor=(1.05, .5), \n",
    "          loc='center left', labelspacing=.3, handlelength=.8, title='coherence', fontsize=10)\n",
    "net.noise_std = noise_std\n",
    "#plt.savefig('figures/2_rdm_trajectories.pdf', bbox_inches='tight')"
   ]
  },
  {
   "cell_type": "code",
   "execution_count": null,
   "metadata": {},
   "outputs": [],
   "source": []
  }
 ],
 "metadata": {
  "kernelspec": {
   "display_name": "Python 3",
   "language": "python",
   "name": "python3"
  },
  "language_info": {
   "codemirror_mode": {
    "name": "ipython",
    "version": 3
   },
   "file_extension": ".py",
   "mimetype": "text/x-python",
   "name": "python",
   "nbconvert_exporter": "python",
   "pygments_lexer": "ipython3",
   "version": "3.7.4"
  }
 },
 "nbformat": 4,
 "nbformat_minor": 4
}
