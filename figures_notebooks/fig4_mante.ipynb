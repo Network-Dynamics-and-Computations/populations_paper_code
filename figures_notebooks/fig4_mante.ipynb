{
 "cells": [
  {
   "cell_type": "code",
   "execution_count": 1,
   "metadata": {},
   "outputs": [],
   "source": [
    "import sys\n",
    "sys.path.append('../')\n",
    "from low_rank_rnns.modules import *\n",
    "import matplotlib\n",
    "from low_rank_rnns import mante, ranktwo, clustering, helpers, mante_regressions, rankone\n",
    "from sklearn.mixture import GaussianMixture\n",
    "import seaborn as sns\n",
    "from scipy import stats"
   ]
  },
  {
   "cell_type": "code",
   "execution_count": 2,
   "metadata": {},
   "outputs": [],
   "source": [
    "helpers.setup_matplotlib(release=True)\n",
    "col_ctx1 = '#840045'\n",
    "col_ctx2 = '#ae8844'\n",
    "col_sig1 = '#d3dd16'\n",
    "col_sig2 = '#faa72a'\n",
    "col_stim_period = 'silver'\n",
    "col_response_period = 'sandybrown'"
   ]
  },
  {
   "cell_type": "code",
   "execution_count": 3,
   "metadata": {},
   "outputs": [],
   "source": [
    "def time_mapping(t):\n",
    "    return t * mante.deltaT / 1000"
   ]
  },
  {
   "cell_type": "code",
   "execution_count": 4,
   "metadata": {},
   "outputs": [],
   "source": [
    "hidden_size = 4096\n",
    "noise_std = 5e-2\n",
    "alpha = 0.2\n",
    "x_train, y_train, mask_train, x_val, y_val, mask_val, epochs = \\\n",
    "    mante.generate_mante_data(1000, fraction_validation_trials=.2)\n",
    "net = LowRankRNN(4, hidden_size, 1, noise_std, alpha, rank=1)\n",
    "net.load_state_dict(torch.load(f'../models/mante_rank1_4096.pt', map_location='cpu'))"
   ]
  },
  {
   "cell_type": "code",
   "execution_count": 5,
   "metadata": {},
   "outputs": [
    {
     "name": "stdout",
     "output_type": "stream",
     "text": [
      "0.025998488068580627\n",
      "1.0\n"
     ]
    }
   ],
   "source": [
    "loss_orig, acc_orig = mante.test_mante(net, x_val, y_val, mask_val)\n",
    "print(loss_orig)\n",
    "print(acc_orig)"
   ]
  },
  {
   "cell_type": "code",
   "execution_count": 6,
   "metadata": {},
   "outputs": [],
   "source": [
    "m = net.m[:,0].detach().numpy()\n",
    "n = net.n[:,0].detach().numpy()\n",
    "wi1 = net.wi[0].detach().numpy()\n",
    "wi2 = net.wi[1].detach().numpy()\n",
    "wi_ctx1 = net.wi[2].detach().numpy()\n",
    "wi_ctx2 = net.wi[3].detach().numpy()\n",
    "wo = net.wo[:,0].detach().numpy()\n",
    "vecs = clustering.make_vecs(net)\n",
    "\n",
    "# Positivity adjustments\n",
    "n = -n\n",
    "m = -m"
   ]
  },
  {
   "cell_type": "code",
   "execution_count": 7,
   "metadata": {},
   "outputs": [],
   "source": [
    "n_pops = 2\n",
    "vecs = clustering.make_vecs(net)\n",
    "z, model = clustering.gmm_fit(vecs, n_pops, algo='bayes', n_init=50, random_state=2020)\n",
    "\n",
    "z = 1 - z   # inverting population labels for presentation purposes"
   ]
  },
  {
   "cell_type": "code",
   "execution_count": 8,
   "metadata": {},
   "outputs": [],
   "source": [
    "colors = ['seagreen', 'rebeccapurple']"
   ]
  },
  {
   "cell_type": "markdown",
   "metadata": {},
   "source": [
    "# Overlaps"
   ]
  },
  {
   "cell_type": "code",
   "execution_count": 9,
   "metadata": {},
   "outputs": [
    {
     "name": "stderr",
     "output_type": "stream",
     "text": [
      "/opt/conda/lib/python3.7/site-packages/ipykernel_launcher.py:36: UserWarning: Use the colorbar set_ticks() method instead.\n"
     ]
    },
    {
     "data": {
      "text/plain": [
       "[Text(1, 0, '$-5$'), Text(1, 0, '$0$'), Text(1, 0, '$5$')]"
      ]
     },
     "execution_count": 9,
     "metadata": {},
     "output_type": "execute_result"
    },
    {
     "data": {
      "image/png": "[encoded data removed]",
      "text/plain": [
       "<Figure size 280.8x140.4 with 3 Axes>"
      ]
     },
     "metadata": {
      "needs_background": "light"
     },
     "output_type": "display_data"
    }
   ],
   "source": [
    "labels = ['$I^{ctxA}$', '$I^{ctxB}$','$I^A$', '$I^B$', '$n$', '$m$', '$w$']\n",
    "lsize = 10\n",
    "\n",
    "vecs = [wi_ctx1[z==0], wi_ctx2[z==0], wi1[z==0], wi2[z==0], n[z==0], m[z==0], wo[z==0]]\n",
    "ov_pop1 = helpers.overlap_matrix(vecs)\n",
    "vecs = [wi_ctx1[z==1], wi_ctx2[z==1], wi1[z==1], wi2[z==1], n[z==1], m[z==1], wo[z==1]]\n",
    "ov_pop2 = helpers.overlap_matrix(vecs)\n",
    "bound_pop1 = np.max((np.abs(np.min(ov_pop1)),np.abs(np.max(ov_pop1))))\n",
    "bound_pop2 = np.max((np.abs(np.min(ov_pop2)),np.abs(np.max(ov_pop2))))\n",
    "overall_bound = np.max((bound_pop1,bound_pop2))\n",
    "\n",
    "fig, ax = plt.subplots(1, 2, figsize=(0.65 * 6, 0.65 * 3))\n",
    "helpers.get_lower_tri_heatmap(ov_pop1, bounds=[-overall_bound, overall_bound], ax=ax[0])\n",
    "ax[0].set_xticklabels(labels[1:], color='seagreen')\n",
    "ax[0].set_yticks(np.array(list(range(len(labels) - 1))) + .5)\n",
    "ax[0].set_yticklabels(labels[:-1], color='seagreen')\n",
    "ax[0].xaxis.set_tick_params(labelsize=lsize)\n",
    "ax[0].yaxis.set_tick_params(rotation=0, labelsize=lsize)\n",
    "ax[0].set_title('population 1', color='seagreen', pad=12)\n",
    "\n",
    "helpers.get_lower_tri_heatmap(ov_pop2, bounds=[-overall_bound, overall_bound], ax=ax[1])\n",
    "ax[1].set_xticklabels(labels[1:], color='rebeccapurple')\n",
    "ax[1].set_yticks(np.array(list(range(len(labels) - 1))) + .5)\n",
    "ax[1].set_yticklabels(labels[:-1], color='rebeccapurple')\n",
    "ax[1].xaxis.set_tick_params(labelsize=lsize)\n",
    "ax[1].yaxis.set_tick_params(rotation=0, labelsize=lsize)\n",
    "ax[1].set_title('population 2', color='rebeccapurple', pad=12)\n",
    "\n",
    "fig.subplots_adjust(wspace=.4)\n",
    "w = .01\n",
    "h = .6\n",
    "ax_cbar = fig.add_axes((1.05, .5 - h/2, w, h))\n",
    "cmap = sns.diverging_palette(220, 10, sep=10, as_cmap=True)\n",
    "matplotlib.colorbar.ColorbarBase(ax_cbar, cmap=cmap, orientation='vertical')\n",
    "dec = 5 / (overall_bound * 2)\n",
    "ax_cbar.set_yticks([.5 - dec, .5, .5 + dec])\n",
    "ax_cbar.set_yticklabels([f'${-overall_bound:.0f}$', '$0$', f'${overall_bound:.0f}$'])\n",
    "#plt.savefig('figures/4_mante_overlaps.pdf', bbox_inches='tight')"
   ]
  },
  {
   "cell_type": "markdown",
   "metadata": {},
   "source": [
    "# Resampling"
   ]
  },
  {
   "cell_type": "code",
   "execution_count": 10,
   "metadata": {},
   "outputs": [],
   "source": [
    "# Resample a few networks\n",
    "losses_normal = []\n",
    "accs_normal = []\n",
    "\n",
    "n_samples = 10\n",
    "net2 = clustering.to_support_net(net, np.zeros(hidden_size))\n",
    "#train(net2, x_train, y_train, mask_train, 50, lr=1e-4, resample=True)\n",
    "#net2.load_state_dict(torch.load('../models/mante_retrained_1pop.pt'))\n",
    "for _ in range(n_samples):\n",
    "    net2.resample_basis()\n",
    "    loss, acc = mante.test_mante(net2, x_val, y_val, mask_val)\n",
    "    losses_normal.append(loss)\n",
    "    accs_normal.append(acc)\n",
    "\n",
    "losses2 = []\n",
    "accs2 = []\n",
    "net3 = clustering.to_support_net(net, z)\n",
    "#train(net3, x_train, y_train, mask_train, 50, lr=1e-4, resample=True)\n",
    "net3.load_state_dict(torch.load('../models/mante_retrained_2pop.pt'))\n",
    "for _ in range(n_samples):\n",
    "    net3.resample_basis()\n",
    "    loss, acc = mante.test_mante(net3, x_val, y_val, mask_val)\n",
    "    losses2.append(loss)\n",
    "    accs2.append(acc)\n",
    "    \n",
    "net_rec = SupportLowRankRNN_withMask(4, 1024, 1, noise_std, alpha, rank=1, n_supports=3, gaussian_basis_dim=5)\n",
    "net_rec.load_state_dict(torch.load('../models/mante_rank1_reconstructed_1024.pt'))\n",
    "accs_rec = []\n",
    "for _ in range(n_samples):\n",
    "    net_rec.resample_basis()\n",
    "    loss, acc = mante.test_mante(net_rec, x_val, y_val, mask_val)\n",
    "    accs_rec.append(acc)\n"
   ]
  },
  {
   "cell_type": "code",
   "execution_count": 11,
   "metadata": {},
   "outputs": [
    {
     "data": {
      "text/plain": [
       "<matplotlib.axes._subplots.AxesSubplot at 0x7fbd5c6da710>"
      ]
     },
     "execution_count": 11,
     "metadata": {},
     "output_type": "execute_result"
    },
    {
     "data": {
      "image/png": "[encoded data removed]",
      "text/plain": [
       "<Figure size 108x108 with 1 Axes>"
      ]
     },
     "metadata": {
      "needs_background": "light"
     },
     "output_type": "display_data"
    }
   ],
   "source": [
    "helpers.boxplot_accuracies([acc_orig, accs_normal, accs2, accs_rec], labels=['trained', '1 pop', '2 pops', 'reduced'],\n",
    "                          figsize=(1.5, 1.5))\n",
    "#plt.savefig('figures/4_mante_resampling.pdf', bbox_inches='tight')"
   ]
  },
  {
   "cell_type": "code",
   "execution_count": 12,
   "metadata": {},
   "outputs": [
    {
     "data": {
      "text/plain": [
       "Text(0.4, 0.5, 'Ctx B')"
      ]
     },
     "execution_count": 12,
     "metadata": {},
     "output_type": "execute_result"
    },
    {
     "data": {
      "image/png": "[encoded data removed]",
      "text/plain": [
       "<Figure size 259.2x99.36 with 10 Axes>"
      ]
     },
     "metadata": {
      "needs_background": "light"
     },
     "output_type": "display_data"
    }
   ],
   "source": [
    "fig, ax = plt.subplots(2, 5, figsize=(0.6 * 6, 0.6 * 2.3))\n",
    "\n",
    "mante.psychometric_matrices(net, axes=[ax[0][0], ax[1][0]])\n",
    "mante.psychometric_matrices(net2, axes=[ax[0][1], ax[1][1]])\n",
    "mante.psychometric_matrices(net3, axes=[ax[0][2], ax[1][2]])\n",
    "mante.psychometric_matrices(net_rec, axes=[ax[0][3], ax[1][3]])\n",
    "\n",
    "ax[0][0].set_title('trained')\n",
    "ax[0][0].set_ylabel('inp. B')\n",
    "ax[0][1].set_title('1 pop.')\n",
    "ax[0][2].set_title('2 pop.')\n",
    "ax[0][3].set_title('reduced')\n",
    "ax[1][0].set_ylabel('inp. B')\n",
    "for i in range(4):\n",
    "    ax[1][i].set_xlabel('inp. A')\n",
    "\n",
    "ax[0][4].set_axis_off()\n",
    "ax[1][4].set_axis_off()\n",
    "ax[0][4].text(.4, .5, 'Ctx A', va='center', ha='center')\n",
    "ax[1][4].text(.4, .5, 'Ctx B', va='center', ha='center')\n",
    "\n",
    "#plt.savefig('figures/4_mante_psycho.pdf', bbox_inches='tight')"
   ]
  },
  {
   "cell_type": "markdown",
   "metadata": {},
   "source": [
    "# Traces"
   ]
  },
  {
   "cell_type": "code",
   "execution_count": 13,
   "metadata": {},
   "outputs": [],
   "source": [
    " def plot_inputs(x, col):\n",
    "    ax[0][col].plot(time, x[:, 0], c=col_sig1)\n",
    "    ax[0][col].plot(time, [coh1 * mante.SCALE] * len(time), ls='--', c=col_sig1)\n",
    "    ax[0][col].axvline(time_mapping(ctx_beg), color='k', ls='--', alpha=.4)\n",
    "    ax[0][col].axvspan(time_mapping(stim_beg), time_mapping(stim_end), color=col_stim_period, alpha=alpha_periods)\n",
    "    ax[0][col].axvspan(time_mapping(response_beg), time_mapping(response_end), color=col_response_period, alpha=alpha_periods)\n",
    "    ax[0][col].set(xlim=(0, time_mapping(x1.shape[0])), xticks=[], yticks=[], ylim=(-.4, .4))\n",
    "    ax[0][col].spines['top'].set_visible(False)\n",
    "    ax[0][col].spines['right'].set_visible(False)\n",
    "    ax[0][col].spines['bottom'].set_position('zero')\n",
    "\n",
    "    ax[1][col].plot(time, x[:, 1], c=col_sig2)\n",
    "    ax[1][col].plot(time, [coh2 * mante.SCALE] * len(time), ls='--', c=col_sig2)\n",
    "    ax[1][col].axvline(time_mapping(ctx_beg), color='k', ls='--', alpha=.4)\n",
    "    ax[1][col].axvspan(time_mapping(stim_beg), time_mapping(stim_end), color=col_stim_period, alpha=alpha_periods)\n",
    "    ax[1][col].axvspan(time_mapping(response_beg), time_mapping(response_end), color=col_response_period, alpha=alpha_periods)\n",
    "    ax[1][col].set(xlim=(0, time_mapping(x1.shape[0])), xticks=[], yticks=[], ylim=(-.6, .6))\n",
    "    ax[1][col].spines['top'].set_visible(False)\n",
    "    ax[1][col].spines['right'].set_visible(False)\n",
    "    ax[1][col].spines['bottom'].set_position('zero')\n",
    "\n",
    "    ax[2][col].plot(time, x[:, 2], c=col_ctx1, zorder=30)\n",
    "    ax[2][col].axvspan(time_mapping(stim_beg), time_mapping(stim_end), color=col_stim_period, alpha=alpha_periods)\n",
    "    ax[2][col].axvline(time_mapping(ctx_beg), color='k', ls='--', alpha=.4)\n",
    "    ax[2][col].axvspan(time_mapping(response_beg), time_mapping(response_end), color=col_response_period, alpha=alpha_periods)\n",
    "    ax[2][col].set(xlim=(0, time_mapping(x1.shape[0])), ylim=(-.1, 1.1), xticks=[], yticks=[])\n",
    "    ax[2][col].spines['top'].set_visible(False)\n",
    "    ax[2][col].spines['right'].set_visible(False)\n",
    "    ax[2][col].spines['bottom'].set_position('zero')\n",
    "\n",
    "    ax[3][col].plot(time, x[:, 3], c=col_ctx2, zorder=30)\n",
    "    ax[3][col].axvline(time_mapping(ctx_beg), color='k', ls='--', alpha=.4)\n",
    "    ax[3][col].axvspan(time_mapping(stim_beg), time_mapping(stim_end), color=col_stim_period, alpha=alpha_periods)\n",
    "    ax[3][col].axvspan(time_mapping(response_beg), time_mapping(response_end), color=col_response_period, alpha=alpha_periods)\n",
    "    ax[3][col].set(xlim=(0, time_mapping(x1.shape[0])), ylim=(-.1, 1.1), xticks=[], yticks=[])\n",
    "    ax[3][col].spines['top'].set_visible(False)\n",
    "    ax[3][col].spines['right'].set_visible(False)\n",
    "    ax[3][col].spines['bottom'].set_position('zero')"
   ]
  },
  {
   "cell_type": "code",
   "execution_count": 14,
   "metadata": {},
   "outputs": [
    {
     "data": {
      "image/png": "[encoded data removed]",
      "text/plain": [
       "<Figure size 162x324 with 12 Axes>"
      ]
     },
     "metadata": {
      "needs_background": "light"
     },
     "output_type": "display_data"
    }
   ],
   "source": [
    "neurons1 = np.random.choice(np.where(z==0)[0], 3)\n",
    "neurons2 = np.random.choice(np.where(z==1)[0], 3)\n",
    "neurons = np.concatenate([neurons2, neurons1])\n",
    "net.noise_std = noise_std\n",
    "coh1 = 1\n",
    "coh2 = -2\n",
    "alpha_periods = .2\n",
    "plot_width = 6\n",
    "\n",
    "fig, ax = plt.subplots(6, 2, figsize=(.75 * 3, .75 * 6), gridspec_kw={'height_ratios': [1, 1, .5, .5, 3, 1]})\n",
    "\n",
    "# Generate trajectories\n",
    "x1, _, _, epochs = mante.generate_mante_data(1, coh_color_spec=coh1, coh_motion_spec=coh2, context_spec=1)\n",
    "outp1, trajectories1 = net.forward(x1, return_dynamics=True)\n",
    "trajectories1 = trajectories1.detach().numpy().squeeze()\n",
    "rates1 = np.tanh(trajectories1)\n",
    "x1 = x1.squeeze().numpy()\n",
    "y1 = outp1.squeeze().detach().numpy()\n",
    "\n",
    "x2, _, _, _ = mante.generate_mante_data(1, coh_color_spec=coh1, coh_motion_spec=coh2, context_spec=2)\n",
    "outp2, trajectories2 = net.forward(x2, return_dynamics=True)\n",
    "trajectories2 = trajectories2.detach().numpy().squeeze()\n",
    "rates2 = np.tanh(trajectories2)\n",
    "x2 = x2.squeeze().numpy()\n",
    "y2 = outp2.squeeze().detach().numpy()\n",
    "\n",
    "task_length = x1.shape[0]\n",
    "time = time_mapping(np.arange(task_length))\n",
    "ctx_beg = epochs[1][0]\n",
    "stim_beg = epochs[2][0]\n",
    "stim_end = epochs[2][1]\n",
    "response_beg = epochs[4][0]\n",
    "response_end = epochs[4][1]\n",
    "\n",
    "plot_inputs(x1, 0)\n",
    "ax[0][0].set_ylabel('$u_A(t)$', rotation='horizontal')\n",
    "ax[1][0].set_ylabel('$u_B(t)$', rotation='horizontal')\n",
    "ax[2][0].set_ylabel('$u_{ctxA}(t)$', rotation='horizontal')\n",
    "ax[3][0].set_ylabel('$u_{ctxB}(t)$', rotation='horizontal')\n",
    "plot_inputs(x2, 1)\n",
    "for i in range(4):\n",
    "    ax[i][1].set_yticks([])\n",
    "\n",
    "colors_traces =  3*['rebeccapurple'] + 3*['seagreen']\n",
    "helpers.plot_rates_single_neurons(rates1[:, neurons], offset=.4, colors=colors_traces, deltaT=mante.deltaT, \n",
    "                                  ax=ax[4][0])\n",
    "ax[4][0].axvline(time_mapping(ctx_beg), color='k', ls='--', alpha=.4)\n",
    "ax[4][0].axvspan(time_mapping(stim_beg), time_mapping(stim_end), color=col_stim_period, alpha=alpha_periods)\n",
    "ax[4][0].axvspan(time_mapping(response_beg), time_mapping(response_end), color=col_response_period, alpha=alpha_periods)\n",
    "ax[4][0].set(xlim=(0, time_mapping(x1.shape[0])))\n",
    "ax[4][0].set(ylabel='rates', xticks=[], yticks=[])\n",
    "ax[4][0].spines['bottom'].set_visible(False)\n",
    "ax[4][0].spines['top'].set_visible(False)\n",
    "ax[4][0].spines['right'].set_visible(False)\n",
    "ax[4][0].spines['left'].set_visible(False)\n",
    "\n",
    "\n",
    "colors_traces =  3*['rebeccapurple'] + 3*['seagreen']\n",
    "helpers.plot_rates_single_neurons(rates2[:, neurons], offset=.4, colors=colors_traces, deltaT=mante.deltaT, \n",
    "                                  ax=ax[4][1])\n",
    "ax[4][1].axvline(time_mapping(ctx_beg), color='k', ls='--', alpha=.4)\n",
    "ax[4][1].axvspan(time_mapping(stim_beg), time_mapping(stim_end), color=col_stim_period, alpha=alpha_periods)\n",
    "ax[4][1].axvspan(time_mapping(response_beg), time_mapping(response_end), color=col_response_period, alpha=alpha_periods)\n",
    "ax[4][1].set(xticks=[], yticks=[])\n",
    "ax[4][1].spines['bottom'].set_visible(False)\n",
    "ax[4][1].spines['top'].set_visible(False)\n",
    "ax[4][1].spines['right'].set_visible(False)\n",
    "ax[4][1].spines['left'].set_visible(False)\n",
    "\n",
    "ax[5][0].plot(time_mapping(np.arange(len(y1))), y1, c=col_ctx1)\n",
    "ax[5][0].axvline(time_mapping(ctx_beg), color='k', ls='--', alpha=.4)\n",
    "ax[5][0].axvspan(time_mapping(stim_beg), time_mapping(stim_end), color=col_stim_period, alpha=alpha_periods)\n",
    "ax[5][0].axvspan(time_mapping(response_beg), time_mapping(response_end), color=col_response_period, alpha=alpha_periods)\n",
    "ax[5][0].spines['top'].set_visible(False)\n",
    "ax[5][0].spines['right'].set_visible(False)\n",
    "ax[5][0].set(xlim=(0, time_mapping(x1.shape[0])), ylim=(-1.2, 1.2), xticks=[0, .5, 1, 1.5],\n",
    "            xlabel='time (s)', ylabel='output')\n",
    "\n",
    "ax[5][1].plot(time_mapping(np.arange(len(y1))), y2, c=col_ctx2)\n",
    "ax[5][1].axvline(time_mapping(ctx_beg), color='k', ls='--', alpha=.4)\n",
    "ax[5][1].axvspan(time_mapping(stim_beg), time_mapping(stim_end), color=col_stim_period, alpha=alpha_periods)\n",
    "ax[5][1].axvspan(time_mapping(response_beg), time_mapping(response_end), color=col_response_period, alpha=alpha_periods)\n",
    "ax[5][1].spines['top'].set_visible(False)\n",
    "ax[5][1].spines['right'].set_visible(False)\n",
    "ax[5][1].set(xlim=(0, time_mapping(x1.shape[0])), ylim=(-1.2, 1.2), xticks=[0, .5, 1, 1.5], yticklabels=['']*3,\n",
    "             xlabel='time (s)')\n",
    "\n",
    "ax[0][0].set_title('Context A')\n",
    "ax[0][1].set_title('Context B')\n",
    "fig.align_ylabels()\n",
    "#plt.savefig('figures/4_mante_traces.pdf', bbox_inches='tight')"
   ]
  },
  {
   "cell_type": "markdown",
   "metadata": {},
   "source": [
    "# Dynamics"
   ]
  },
  {
   "cell_type": "code",
   "execution_count": 15,
   "metadata": {},
   "outputs": [],
   "source": [
    "# Next coming traces are noise-free\n",
    "net.noise_std = 0.\n",
    "\n",
    "coh1 = 1\n",
    "coh2 = -2\n",
    "x1, _, _, epochs = mante.generate_mante_data(1, std=0., coh_color_spec=coh1, coh_motion_spec=coh2, context_spec=1)\n",
    "outp1, trajectories1 = net.forward(x1, return_dynamics=True)\n",
    "trajectories1 = trajectories1.detach().numpy().squeeze()\n",
    "rates1 = np.tanh(trajectories1)\n",
    "x1 = x1.squeeze().numpy()\n",
    "\n",
    "x2, _, _, _ = mante.generate_mante_data(1, std=0., coh_color_spec=coh1, coh_motion_spec=coh2, context_spec=2)\n",
    "outp2, trajectories2 = net.forward(x2, return_dynamics=True)\n",
    "trajectories2 = trajectories2.detach().numpy().squeeze()\n",
    "rates2 = np.tanh(trajectories2)\n",
    "x2 = x2.squeeze().numpy()"
   ]
  },
  {
   "cell_type": "code",
   "execution_count": 16,
   "metadata": {},
   "outputs": [
    {
     "data": {
      "text/plain": [
       "<matplotlib.legend.Legend at 0x7fbd5bfcaa10>"
      ]
     },
     "execution_count": 16,
     "metadata": {},
     "output_type": "execute_result"
    },
    {
     "data": {
      "image/png": "[encoded data removed]",
      "text/plain": [
       "<Figure size 252x100.8 with 2 Axes>"
      ]
     },
     "metadata": {
      "needs_background": "light"
     },
     "output_type": "display_data"
    }
   ],
   "source": [
    "inp_integration1 = np.tanh(np.outer(x1[:, 0], wi1) + np.outer(x1[:, 1], wi2) + np.outer(x1[:, 2], wi_ctx1) + \n",
    "                         np.outer(x1[:, 3], wi_ctx2))\n",
    "inp1_pop1 = inp_integration1[:, z==0] @ n[z==0].reshape((-1, 1)) / np.sum(1-z)\n",
    "inp1_pop2 = inp_integration1[:, z==1] @ n[z==1].reshape((-1, 1)) / np.sum(z)\n",
    "inp1_global = inp_integration1 @ n.reshape((-1, 1)) / net.hidden_size\n",
    "inp_integration2 = np.tanh(np.outer(x2[:, 0], wi1) + np.outer(x2[:, 1], wi2) + np.outer(x2[:, 2], wi_ctx1) + \n",
    "                         np.outer(x2[:, 3], wi_ctx2))\n",
    "inp2_pop1 = inp_integration2[:, z==0] @ n[z==0].reshape((-1, 1)) / np.sum(1-z)\n",
    "inp2_pop2 = inp_integration2[:, z==1] @ n[z==1].reshape((-1, 1)) / np.sum(z)\n",
    "inp2_global = inp_integration2 @ n.reshape((-1, 1)) / net.hidden_size\n",
    "time = time_mapping(np.arange(x1.shape[0]))\n",
    "\n",
    "fig, ax = plt.subplots(1, 2, figsize=(.7 * 5, .7 * 2))\n",
    "pl1, = ax[0].plot(time, inp1_pop1, c=colors[0])\n",
    "pl2, = ax[0].plot(time, inp1_pop2, c=colors[1])\n",
    "pl3, = ax[0].plot(time, inp1_global, ls='--', c=col_ctx1)\n",
    "ax[0].spines['top'].set_visible(False)\n",
    "ax[0].spines['right'].set_visible(False)\n",
    "ax[0].set(xticks=[0, .5, 1, 1.5], ylim=(-.3, .3), xlabel='time (s)', ylabel='effective input')\n",
    "\n",
    "ax[1].plot(time, inp2_pop1, c=colors[0])\n",
    "ax[1].plot(time, inp2_pop2, c=colors[1])\n",
    "pl4, = ax[1].plot(time, inp2_global, ls='--', c=col_ctx2)\n",
    "ax[1].spines['top'].set_visible(False)\n",
    "ax[1].spines['right'].set_visible(False)\n",
    "ax[1].set(xticks=[0, .5, 1, 1.5], ylim=(-.2, .2), yticklabels=['']*3, xlabel='time (s)')\n",
    "\n",
    "fig.legend([pl1, pl2, pl3, pl4], ['pop 1', 'pop 2', 'all, ctx 1', 'all, ctx 2'], \n",
    "           bbox_to_anchor=(1., .7), handlelength=1, loc='center left')\n",
    "#plt.savefig('figures/4_mante_kappainp.pdf', bbox_inches='tight')"
   ]
  },
  {
   "cell_type": "code",
   "execution_count": 17,
   "metadata": {},
   "outputs": [
    {
     "data": {
      "image/png": "[encoded data removed]",
      "text/plain": [
       "<Figure size 201.6x75.6 with 2 Axes>"
      ]
     },
     "metadata": {},
     "output_type": "display_data"
    }
   ],
   "source": [
    "fig, ax = plt.subplots(1, 2, figsize=(.8 * 3.5, .7 * 1.5))\n",
    "\n",
    "I1_orth = wi1 - (wi1 @ m) * m / (m @ m)\n",
    "I2_orth = wi2 - (wi2 @ m) * m / (m @ m)\n",
    "\n",
    "projm1 = trajectories1 @ m / net.hidden_size \n",
    "proji1 = trajectories1 @ I1_orth / net.hidden_size\n",
    "projm2 = trajectories2 @ m / net.hidden_size\n",
    "proji2 = trajectories2 @ I1_orth / net.hidden_size\n",
    "\n",
    "pl1, = ax[0].plot(projm1, proji1, c=col_ctx1)\n",
    "pl2, = ax[0].plot(projm2, proji2, c=col_ctx2)\n",
    "helpers.center_axes(ax[0])\n",
    "ax[0].set(xticks=[], yticks=[], xlim=(-3, 3), ylim=(-0.03, 0.17))\n",
    "ax[0].set_xlabel('$\\kappa(t)$', x=1)\n",
    "ax[0].set_ylabel('$u_A(t)$', y=.9, ha='right', rotation=0)\n",
    "\n",
    "proji1 = trajectories1 @ I2_orth / net.hidden_size\n",
    "proji2 = trajectories2 @ I2_orth / net.hidden_size\n",
    "ax[1].plot(projm1, proji1, c=col_ctx1)\n",
    "ax[1].plot(projm2, proji2, c=col_ctx2)\n",
    "helpers.center_axes(ax[1])\n",
    "ax[1].set(xticks=[], yticks=[], xlim=(-3, 3), ylim=(-0.22, 0.15))\n",
    "ax[1].set_xlabel('$\\kappa(t)$', x=1)\n",
    "ax[1].set_ylabel('$u_B(t)$', y=.9, ha='right', rotation=0)\n",
    "\n",
    "lgd = ax[1].legend([pl1, pl2], ['ctx A', 'ctx B'], bbox_to_anchor=(1.4, 1.6), handlelength=.8)\n",
    "\n",
    "#plt.savefig('figures/4_mante_dynamics.pdf', bbox_inches='tight', bbox_extra_artists=(lgd,))"
   ]
  },
  {
   "cell_type": "markdown",
   "metadata": {},
   "source": [
    "# Scatters"
   ]
  },
  {
   "cell_type": "code",
   "execution_count": 18,
   "metadata": {},
   "outputs": [
    {
     "name": "stdout",
     "output_type": "stream",
     "text": [
      "pop 0: slope=0.46, intercept=-0.03\n",
      "pop 1: slope=-0.18, intercept=0.02\n",
      "pop 0: slope=-0.28, intercept=-0.02\n",
      "pop 1: slope=0.48, intercept=0.01\n"
     ]
    },
    {
     "data": {
      "text/plain": [
       "Text(0, 0.9, '$I_i^{B}$')"
      ]
     },
     "execution_count": 18,
     "metadata": {},
     "output_type": "execute_result"
    },
    {
     "data": {
      "image/png": "[encoded data removed]",
      "text/plain": [
       "<Figure size 72x216 with 3 Axes>"
      ]
     },
     "metadata": {},
     "output_type": "display_data"
    }
   ],
   "source": [
    "fig, ax = plt.subplots(3, 1, figsize=(1, 3))\n",
    "fs = 12\n",
    "clustering.pop_scatter_linreg(wi_ctx1, wi_ctx2, z, 2, colors=colors, linreg=False, ax=ax[0])\n",
    "ax[0].set_xlabel('$I_i^{ctxA}$', horizontalalignment='right', x=1.3, fontsize=fs)\n",
    "ax[0].set_ylabel('$I_i^{ctxB}$', horizontalalignment='right', y=.9, rotation='horizontal', fontsize=fs)\n",
    "clustering.pop_scatter_linreg(n, wi1, z, 2, colors=colors, ax=ax[1])\n",
    "ax[1].set_xlabel('$n_i$', horizontalalignment='right', x=1.2, fontsize=fs)\n",
    "ax[1].set_ylabel('$I_i^{A}$', horizontalalignment='right', y=.9, rotation='horizontal', fontsize=fs)\n",
    "clustering.pop_scatter_linreg(n, wi2, z, 2, colors=colors, ax=ax[2])\n",
    "ax[2].set_xlabel('$n_i$', horizontalalignment='right', x=1.2, fontsize=fs)\n",
    "ax[2].set_ylabel('$I_i^{B}$', horizontalalignment='right', y=.9, rotation='horizontal', fontsize=fs)\n",
    "#plt.savefig('figures/4_mante_scatters.pdf', bbox_inches='tight')"
   ]
  },
  {
   "cell_type": "markdown",
   "metadata": {},
   "source": [
    "# Violin plots"
   ]
  },
  {
   "cell_type": "code",
   "execution_count": 19,
   "metadata": {},
   "outputs": [],
   "source": [
    "x1, _, _, _ = mante.generate_mante_data(1, coherences=[0.], std=0., context_spec=1)\n",
    "outp, trajectories = net.forward(x1, return_dynamics=True)\n",
    "trajectories = trajectories.detach().squeeze().numpy()\n",
    "phi_primes1 = helpers.phi_prime(trajectories[mante.stim_begin:mante.stim_end].mean(axis=0))\n"
   ]
  },
  {
   "cell_type": "code",
   "execution_count": 20,
   "metadata": {},
   "outputs": [],
   "source": [
    "x2, _, _, _ = mante.generate_mante_data(1, coherences=[0.], std=0., context_spec=2)\n",
    "outp, trajectories = net.forward(x2, return_dynamics=True)\n",
    "trajectories = trajectories.detach().squeeze().numpy()\n",
    "phi_primes2 = helpers.phi_prime(trajectories[mante.stim_begin:mante.stim_end].mean(axis=0))"
   ]
  },
  {
   "cell_type": "code",
   "execution_count": 21,
   "metadata": {},
   "outputs": [
    {
     "data": {
      "text/plain": [
       "Text(0.5, 1.0, 'Context B')"
      ]
     },
     "execution_count": 21,
     "metadata": {},
     "output_type": "execute_result"
    },
    {
     "data": {
      "image/png": "[encoded data removed]",
      "text/plain": [
       "<Figure size 252x100.8 with 2 Axes>"
      ]
     },
     "metadata": {
      "needs_background": "light"
     },
     "output_type": "display_data"
    }
   ],
   "source": [
    "fig, ax = plt.subplots(1, 2, figsize=(.7 * 5, .7 * 2))\n",
    "\n",
    "pl = ax[0].violinplot([phi_primes1[z==i] for i in range(2)])\n",
    "ax[0].set_yticks([0, 1])\n",
    "ax[0].set_xticks([1, 2])\n",
    "ax[0].set_xticklabels(['pop. 1', 'pop. 2'])\n",
    "pl['bodies'][0].set_color(colors[0])\n",
    "pl['bodies'][0].set_alpha(1)\n",
    "pl['bodies'][1].set_color(colors[1])\n",
    "pl['bodies'][1].set_alpha(1)\n",
    "pl['cbars'].set_color('black')\n",
    "pl['cbars'].set_linewidth(.5)\n",
    "pl['cmins'].set_color('black')\n",
    "pl['cmins'].set_linewidth(.5)\n",
    "pl['cmaxes'].set_color('black')\n",
    "pl['cmaxes'].set_linewidth(.5)\n",
    "ax[0].spines['top'].set_visible(False)\n",
    "ax[0].spines['right'].set_visible(False)\n",
    "ax[0].set_ylabel('gain $\\\\Phi\\'(x_i)$')\n",
    "ax[0].set_title('Context A')\n",
    "\n",
    "pl = ax[1].violinplot([phi_primes2[z==i] for i in range(2)])\n",
    "ax[1].set_yticks([0, 1])\n",
    "ax[1].set_yticklabels(['', ''])\n",
    "ax[1].set_xticks([1, 2])\n",
    "ax[1].set_xticklabels(['pop. 1', 'pop. 2'])\n",
    "pl['bodies'][0].set_color(colors[0])\n",
    "pl['bodies'][0].set_alpha(1)\n",
    "pl['bodies'][1].set_color(colors[1])\n",
    "pl['bodies'][1].set_alpha(1)\n",
    "pl['cbars'].set_color('black')\n",
    "pl['cbars'].set_linewidth(.5)\n",
    "pl['cmins'].set_color('black')\n",
    "pl['cmins'].set_linewidth(.5)\n",
    "pl['cmaxes'].set_color('black')\n",
    "pl['cmaxes'].set_linewidth(.5)\n",
    "ax[1].spines['top'].set_visible(False)\n",
    "ax[1].spines['right'].set_visible(False)\n",
    "ax[1].set_title('Context B')\n",
    "\n",
    "#plt.savefig('figures/4_mante_violin.pdf', bbox_inches='tight')"
   ]
  }
 ],
 "metadata": {
  "kernelspec": {
   "display_name": "Python 3",
   "language": "python",
   "name": "python3"
  },
  "language_info": {
   "codemirror_mode": {
    "name": "ipython",
    "version": 3
   },
   "file_extension": ".py",
   "mimetype": "text/x-python",
   "name": "python",
   "nbconvert_exporter": "python",
   "pygments_lexer": "ipython3",
   "version": "3.7.6"
  }
 },
 "nbformat": 4,
 "nbformat_minor": 4
}
